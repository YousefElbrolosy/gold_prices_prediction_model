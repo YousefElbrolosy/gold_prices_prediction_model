{
 "cells": [
  {
   "cell_type": "markdown",
   "source": [
    "# Importing Libraries"
   ],
   "metadata": {
    "collapsed": false
   },
   "id": "cb7de77a0ba0aeb8"
  },
  {
   "cell_type": "code",
   "id": "initial_id",
   "metadata": {
    "collapsed": true,
    "ExecuteTime": {
     "end_time": "2024-10-12T18:04:50.694783Z",
     "start_time": "2024-10-12T18:04:50.629243Z"
    }
   },
   "source": [
    "import warnings\n",
    "import numpy as np\n",
    "import pandas as pd\n",
    "from sklearn.model_selection import train_test_split\n",
    "from sklearn.linear_model import LinearRegression\n",
    "import matplotlib.pyplot as plt\n",
    "from sklearn.metrics import mean_squared_error, f1_score\n",
    "import time\n",
    "import pickle \n",
    "from prophet import Prophet\n",
    "from sklearn.metrics import mean_absolute_error\n",
    "\n",
    "warnings.simplefilter(action='ignore', category=FutureWarning)\n",
    "\n",
    "%load_ext autoreload\n",
    "%autoreload 2"
   ],
   "outputs": [
    {
     "name": "stdout",
     "output_type": "stream",
     "text": [
      "The autoreload extension is already loaded. To reload it, use:\n",
      "  %reload_ext autoreload\n"
     ]
    }
   ],
   "execution_count": 77
  },
  {
   "cell_type": "markdown",
   "source": [
    "# Reading Files"
   ],
   "metadata": {
    "collapsed": false
   },
   "id": "170f3a3b6310c8e8"
  },
  {
   "cell_type": "code",
   "source": [
    "crude_oil_prices = pd.read_csv('../InputData/crude_oil_prices.csv')\n",
    "federal_rates = pd.read_csv('../InputData/effective_federal_funds_rate.csv')\n",
    "corridor_rates = pd.read_csv('../InputData/egyptian_corridor_interest_rates.csv')\n",
    "housing_index = pd.read_csv('../InputData/housing_index.csv')\n",
    "inflation_mom = pd.read_csv('../InputData/inflation_month_on_month.csv')\n",
    "inflation_yoy = pd.read_csv('../InputData/inflation_year_on_year.csv')\n",
    "news_data = pd.read_csv('../InputData/news.csv')\n",
    "stock_prices = pd.read_csv('../InputData/stocks_prices_and_volumes.csv')\n",
    "vix_indices = pd.read_csv('../InputData/vix_index.csv')\n",
    "vixeem_indices = pd.read_csv('../InputData/vxeem_index.csv')\n",
    "gold_prices = pd.read_csv('../InputData/intraday_gold.csv')\n",
    "gold_prices_target = pd.read_csv('../InputData/target_gold.csv')"
   ],
   "metadata": {
    "collapsed": false,
    "ExecuteTime": {
     "end_time": "2024-10-12T18:04:52.112284Z",
     "start_time": "2024-10-12T18:04:50.724428Z"
    }
   },
   "id": "c2cf553fe3751e19",
   "outputs": [],
   "execution_count": 78
  },
  {
   "cell_type": "code",
   "source": [
    "gold_prices_target.head()"
   ],
   "metadata": {
    "collapsed": false,
    "ExecuteTime": {
     "end_time": "2024-10-12T18:04:52.265488Z",
     "start_time": "2024-10-12T18:04:52.197513Z"
    }
   },
   "id": "7987b73ff1c68863",
   "outputs": [
    {
     "data": {
      "text/plain": [
       "         date  pct_change\n",
       "0  2020-01-01    0.129032\n",
       "1  2020-01-02    1.288660\n",
       "2  2020-01-03    0.636132\n",
       "3  2020-01-04    0.126422\n",
       "4  2020-01-05    1.262626"
      ],
      "text/html": [
       "<div>\n",
       "<style scoped>\n",
       "    .dataframe tbody tr th:only-of-type {\n",
       "        vertical-align: middle;\n",
       "    }\n",
       "\n",
       "    .dataframe tbody tr th {\n",
       "        vertical-align: top;\n",
       "    }\n",
       "\n",
       "    .dataframe thead th {\n",
       "        text-align: right;\n",
       "    }\n",
       "</style>\n",
       "<table border=\"1\" class=\"dataframe\">\n",
       "  <thead>\n",
       "    <tr style=\"text-align: right;\">\n",
       "      <th></th>\n",
       "      <th>date</th>\n",
       "      <th>pct_change</th>\n",
       "    </tr>\n",
       "  </thead>\n",
       "  <tbody>\n",
       "    <tr>\n",
       "      <th>0</th>\n",
       "      <td>2020-01-01</td>\n",
       "      <td>0.129032</td>\n",
       "    </tr>\n",
       "    <tr>\n",
       "      <th>1</th>\n",
       "      <td>2020-01-02</td>\n",
       "      <td>1.288660</td>\n",
       "    </tr>\n",
       "    <tr>\n",
       "      <th>2</th>\n",
       "      <td>2020-01-03</td>\n",
       "      <td>0.636132</td>\n",
       "    </tr>\n",
       "    <tr>\n",
       "      <th>3</th>\n",
       "      <td>2020-01-04</td>\n",
       "      <td>0.126422</td>\n",
       "    </tr>\n",
       "    <tr>\n",
       "      <th>4</th>\n",
       "      <td>2020-01-05</td>\n",
       "      <td>1.262626</td>\n",
       "    </tr>\n",
       "  </tbody>\n",
       "</table>\n",
       "</div>"
      ]
     },
     "execution_count": 79,
     "metadata": {},
     "output_type": "execute_result"
    }
   ],
   "execution_count": 79
  },
  {
   "metadata": {
    "ExecuteTime": {
     "end_time": "2024-10-12T18:04:52.815687Z",
     "start_time": "2024-10-12T18:04:52.372344Z"
    }
   },
   "cell_type": "code",
   "source": [
    "merged_data_list_federal_gold = []\n",
    "\n",
    "# Convert 'Date' columns to date object\n",
    "federal_rates['Date'] = pd.to_datetime(federal_rates['Date']).dt.date\n",
    "gold_prices['Timestamp'] = pd.to_datetime(gold_prices['Timestamp'], errors='coerce', utc=True)\n",
    "gold_prices['Date'] = gold_prices['Timestamp'].dt.date\n",
    "\n",
    "# Get daily gold prices\n",
    "gold_daily = gold_prices.groupby('Date').last().reset_index()\n",
    "\n",
    "for federal_rates_column in federal_rates.columns:\n",
    "    if federal_rates_column == 'Date':\n",
    "        continue\n",
    "\n",
    "    # Get start and end dates relative to each dataset\n",
    "    start_date = max(federal_rates['Date'].min(), gold_daily['Date'].min())\n",
    "    end_date = min(federal_rates['Date'].max(), gold_daily['Date'].max())\n",
    "\n",
    "    # Filter the data based on start and end date\n",
    "    federal_rates_filtered = federal_rates[(federal_rates['Date'] >= start_date) & (federal_rates['Date'] <= end_date)]\n",
    "    gold_daily_filtered = gold_daily[(gold_daily['Date'] >= start_date) & (gold_daily['Date'] <= end_date)]\n",
    "\n",
    "    # Merge the two datasets on 'Date'\n",
    "    merged_data = pd.merge(federal_rates_filtered, gold_daily_filtered, on='Date', how='inner')\n",
    "\n",
    "    # Ensure the columns are numeric\n",
    "    merged_data[federal_rates_column] = pd.to_numeric(merged_data[federal_rates_column], errors='coerce')\n",
    "    merged_data['24K'] = pd.to_numeric(merged_data['24K'], errors='coerce')\n",
    "\n",
    "    # Apply interpolation only to numeric columns\n",
    "    numeric_cols = merged_data.select_dtypes(include=['float64', 'int64']).columns\n",
    "    merged_data[numeric_cols] = merged_data[numeric_cols].interpolate(method='linear', limit_direction='both')\n",
    "\n",
    "    # Create Log Columns\n",
    "    merged_data['log_federal_rates'] = np.log(merged_data[federal_rates_column] + 1)\n",
    "    merged_data['Log_Gold_Price'] = np.log(merged_data['24K'] + 1)\n",
    "\n",
    "    # Calculate the mean and standard deviation for both series\n",
    "    mean_gold_price = merged_data['Log_Gold_Price'].mean()\n",
    "    std_gold_price = merged_data['Log_Gold_Price'].std()\n",
    "    mean_stock_price = merged_data['log_federal_rates'].mean()\n",
    "    std_stock_price = merged_data['log_federal_rates'].std()\n",
    "\n",
    "    # Calculate thresholds for outliers\n",
    "    threshold_upper_gold = mean_gold_price + 2 * std_gold_price\n",
    "    threshold_lower_gold = mean_gold_price - 2 * std_gold_price\n",
    "    threshold_upper_stock = mean_stock_price + 2 * std_stock_price\n",
    "    threshold_lower_stock = mean_stock_price - 2 * std_stock_price\n",
    "\n",
    "    # Remove duplicate dates\n",
    "    date_range = pd.date_range(start=start_date, end=end_date, freq='D')\n",
    "    merged_data = merged_data.drop_duplicates(subset='Date')\n",
    "\n",
    "    # Mask outliers\n",
    "    outlier_mask_gold = (merged_data['Log_Gold_Price'] < threshold_lower_gold) | (merged_data['Log_Gold_Price'] > threshold_upper_gold)\n",
    "    outlier_mask_stock = (merged_data['log_federal_rates'] < threshold_lower_stock) | (merged_data['log_federal_rates'] > threshold_upper_stock)\n",
    "\n",
    "    # Set outliers to NaN\n",
    "    merged_data.loc[outlier_mask_gold, 'Log_Gold_Price'] = np.nan\n",
    "    merged_data.loc[outlier_mask_stock, 'log_federal_rates'] = np.nan\n",
    "\n",
    "    # Interpolate missing values for log columns\n",
    "    merged_data['Log_Gold_Price'] = merged_data['Log_Gold_Price'].interpolate(method='linear')\n",
    "    merged_data['log_federal_rates'] = merged_data['log_federal_rates'].interpolate(method='linear')\n",
    "\n",
    "    # Apply rolling mean for smoothing\n",
    "    merged_data['smoothed_log_federal_rates'] = merged_data['log_federal_rates'].rolling(window=7, min_periods=1).mean()\n",
    "    merged_data['Smoothed_Log_Gold_Price'] = merged_data['Log_Gold_Price'].rolling(window=7, min_periods=1).mean()\n",
    "\n",
    "    # Filter necessary columns and reindex using the date range\n",
    "    filtered_data = merged_data[['Date', 'smoothed_log_federal_rates', 'Smoothed_Log_Gold_Price']]\n",
    "    filtered_data = filtered_data.set_index('Date').reindex(date_range).reset_index()\n",
    "\n",
    "    # Apply interpolation only to numeric columns after reindexing\n",
    "    numeric_filtered_cols = filtered_data.select_dtypes(include=['float64', 'int64']).columns\n",
    "    filtered_data[numeric_filtered_cols] = filtered_data[numeric_filtered_cols].interpolate(method='linear')\n",
    "\n",
    "    # No dropping rows, keeping NaNs as is\n",
    "\n",
    "    merged_data_list_federal_gold.append(filtered_data)\n",
    "\n",
    "    # Plot the results\n",
    "    plt.figure(figsize=(10, 6))\n",
    "    plt.plot(filtered_data['smoothed_log_federal_rates'], label='Federal Rates', color='blue')\n",
    "    plt.plot(filtered_data['Smoothed_Log_Gold_Price'], label='Gold Price', color='red')\n",
    "    plt.title('Federal Rates and Gold Prices')\n",
    "    plt.xlabel('Date')\n",
    "    plt.ylabel('Log Price')\n",
    "    plt.legend()\n",
    "    plt.show()\n"
   ],
   "id": "240dfb63d23f472f",
   "outputs": [
    {
     "data": {
      "text/plain": [
       "<Figure size 1000x600 with 1 Axes>"
      ],
      "image/png": "[encoded data removed]"
     },
     "metadata": {},
     "output_type": "display_data"
    }
   ],
   "execution_count": 80
  },
  {
   "metadata": {
    "ExecuteTime": {
     "end_time": "2024-10-12T18:04:53.729788Z",
     "start_time": "2024-10-12T18:04:53.065436Z"
    }
   },
   "cell_type": "code",
   "source": [
    "merged_data_list_house_gold = []\n",
    "\n",
    "# Convert 'Date' columns to date object\n",
    "housing_index['Date'] = pd.to_datetime(housing_index['Date']).dt.date\n",
    "gold_prices['Timestamp'] = pd.to_datetime(gold_prices['Timestamp'], errors='coerce', utc=True)\n",
    "gold_prices['Date'] = gold_prices['Timestamp'].dt.date\n",
    "\n",
    "# Get daily gold prices\n",
    "gold_daily = gold_prices.groupby('Date').last().reset_index()\n",
    "\n",
    "for housing_index_column in housing_index.columns:\n",
    "    if housing_index_column == 'Date':\n",
    "        continue\n",
    "\n",
    "    # Get start and end dates relative to each dataset\n",
    "    start_date = max(housing_index['Date'].min(), gold_daily['Date'].min())\n",
    "    end_date = min(housing_index['Date'].max(), gold_daily['Date'].max())\n",
    "\n",
    "    # Filter the data based on start and end date\n",
    "    housing_index_filtered = housing_index[(housing_index['Date'] >= start_date) & (housing_index['Date'] <= end_date)]\n",
    "    gold_daily_filtered = gold_daily[(gold_daily['Date'] >= start_date) & (gold_daily['Date'] <= end_date)]\n",
    "\n",
    "    # Merge the two datasets on 'Date'\n",
    "    merged_data = pd.merge(housing_index_filtered, gold_daily_filtered, on='Date', how='inner')\n",
    "\n",
    "    # Apply interpolation only to numeric columns\n",
    "    numeric_cols = merged_data.select_dtypes(include=['float64', 'int64']).columns\n",
    "    merged_data[numeric_cols] = merged_data[numeric_cols].interpolate(method='linear', limit_direction='both')\n",
    "\n",
    "    # Create Log Columns\n",
    "    merged_data['log_housing_index'] = np.log(merged_data[housing_index_column] + 1)\n",
    "    merged_data['Log_Gold_Price'] = np.log(merged_data['24K'] + 1)\n",
    "\n",
    "    # Calculate the mean and standard deviation for both series\n",
    "    mean_gold_price = merged_data['Log_Gold_Price'].mean()\n",
    "    std_gold_price = merged_data['Log_Gold_Price'].std()\n",
    "    mean_stock_price = merged_data['log_housing_index'].mean()\n",
    "    std_stock_price = merged_data['log_housing_index'].std()\n",
    "\n",
    "    # Calculate thresholds for outliers\n",
    "    threshold_upper_gold = mean_gold_price + 2 * std_gold_price\n",
    "    threshold_lower_gold = mean_gold_price - 2 * std_gold_price\n",
    "    threshold_upper_stock = mean_stock_price + 2 * std_stock_price\n",
    "    threshold_lower_stock = mean_stock_price - 2 * std_stock_price\n",
    "\n",
    "    # Remove duplicate dates\n",
    "    date_range = pd.date_range(start=start_date, end=end_date, freq='D')\n",
    "    merged_data = merged_data.drop_duplicates(subset='Date')\n",
    "\n",
    "    # Mask outliers\n",
    "    outlier_mask_gold = (merged_data['Log_Gold_Price'] < threshold_lower_gold) | (merged_data['Log_Gold_Price'] > threshold_upper_gold)\n",
    "    outlier_mask_stock = (merged_data['log_housing_index'] < threshold_lower_stock) | (merged_data['log_housing_index'] > threshold_upper_stock)\n",
    "\n",
    "    # Set outliers to NaN\n",
    "    merged_data.loc[outlier_mask_gold, 'Log_Gold_Price'] = np.nan\n",
    "    merged_data.loc[outlier_mask_stock, 'log_housing_index'] = np.nan\n",
    "\n",
    "    # Interpolate missing values for log columns\n",
    "    merged_data['Log_Gold_Price'] = merged_data['Log_Gold_Price'].interpolate(method='linear')\n",
    "    merged_data['log_housing_index'] = merged_data['log_housing_index'].interpolate(method='linear')\n",
    "\n",
    "    # Apply rolling mean for smoothing\n",
    "    merged_data['smoothed_log_housing_index'] = merged_data['log_housing_index'].rolling(window=7, min_periods=1).mean()\n",
    "    merged_data['Smoothed_Log_Gold_Price'] = merged_data['Log_Gold_Price'].rolling(window=7, min_periods=1).mean()\n",
    "\n",
    "    # Filter necessary columns and reindex using the date range\n",
    "    filtered_data = merged_data[['Date', 'smoothed_log_housing_index', 'Smoothed_Log_Gold_Price']]\n",
    "    filtered_data = filtered_data.set_index('Date').reindex(date_range).reset_index()\n",
    "\n",
    "    # Apply interpolation only to numeric columns after reindexing\n",
    "    numeric_filtered_cols = filtered_data.select_dtypes(include=['float64', 'int64']).columns\n",
    "    filtered_data[numeric_filtered_cols] = filtered_data[numeric_filtered_cols].interpolate(method='linear')\n",
    "\n",
    "    # No dropping rows, keeping NaNs as is\n",
    "\n",
    "    merged_data_list_house_gold.append(filtered_data)\n",
    "\n",
    "    # Plot the results\n",
    "    plt.figure(figsize=(10, 6))\n",
    "    plt.plot(filtered_data['smoothed_log_housing_index'], label='House Index', color='blue')\n",
    "    plt.plot(filtered_data['Smoothed_Log_Gold_Price'], label='Gold Price', color='red')\n",
    "    plt.title('Housing Index and Gold Prices')\n",
    "    plt.xlabel('Date')\n",
    "    plt.ylabel('Log Price')\n",
    "    plt.legend()\n",
    "    plt.show()\n"
   ],
   "id": "4f2059e889141f31",
   "outputs": [
    {
     "data": {
      "text/plain": [
       "<Figure size 1000x600 with 1 Axes>"
      ],
      "image/png": "[encoded data removed]"
     },
     "metadata": {},
     "output_type": "display_data"
    }
   ],
   "execution_count": 81
  },
  {
   "cell_type": "code",
   "source": [
    "model_list = []\n",
    "for merged_data_for_model in merged_data_list_federal_gold:\n",
    "    df = merged_data_for_model[['index', 'Smoothed_Log_Gold_Price']]\n",
    "    df.columns = ['ds', 'y']\n",
    "    df['smoothed_log_federal_rates'] = merged_data_for_model['smoothed_log_federal_rates']\n",
    "    model = Prophet()\n",
    "    model.add_regressor('smoothed_log_federal_rates')\n",
    "    model.fit(df)\n",
    "    model_list.append(model)\n",
    "\n",
    "    "
   ],
   "metadata": {
    "collapsed": false,
    "ExecuteTime": {
     "end_time": "2024-10-12T18:04:56.052370Z",
     "start_time": "2024-10-12T18:04:53.932788Z"
    }
   },
   "id": "aa8b50cd9a53e253",
   "outputs": [
    {
     "name": "stderr",
     "output_type": "stream",
     "text": [
      "21:04:54 - cmdstanpy - INFO - Chain [1] start processing\n",
      "21:04:56 - cmdstanpy - INFO - Chain [1] done processing\n"
     ]
    }
   ],
   "execution_count": 82
  },
  {
   "metadata": {
    "ExecuteTime": {
     "end_time": "2024-10-12T18:04:57.525525Z",
     "start_time": "2024-10-12T18:04:56.067219Z"
    }
   },
   "cell_type": "code",
   "source": [
    "model_list2 = []\n",
    "for merged_data_for_model in merged_data_list_house_gold:\n",
    "    df = merged_data_for_model[['index', 'Smoothed_Log_Gold_Price']]\n",
    "    df.columns = ['ds', 'y']\n",
    "    df['smoothed_log_housing_index'] = merged_data_for_model['smoothed_log_housing_index']\n",
    "    model = Prophet()\n",
    "    model.add_regressor('smoothed_log_housing_index')\n",
    "    model.fit(df)\n",
    "    model_list2.append(model)"
   ],
   "id": "87066eb4f7449ba",
   "outputs": [
    {
     "name": "stderr",
     "output_type": "stream",
     "text": [
      "21:04:56 - cmdstanpy - INFO - Chain [1] start processing\n",
      "21:04:57 - cmdstanpy - INFO - Chain [1] done processing\n"
     ]
    }
   ],
   "execution_count": 83
  },
  {
   "cell_type": "code",
   "source": [
    "predictions_federal_gold = []\n",
    "for i, model in enumerate(model_list):    \n",
    "    future = model.make_future_dataframe(periods=290)\n",
    "    last_known_federal_rates = merged_data_list_federal_gold[i]['smoothed_log_federal_rates'].iloc[-1]\n",
    "    future['smoothed_log_federal_rates'] = last_known_federal_rates\n",
    "    forecast = model.predict(future)\n",
    "    forecast['Predicted_Gold_Price'] = np.exp(forecast['yhat'])\n",
    "    forecast['Date'] = forecast['ds'].dt.date\n",
    "    pred = forecast[['Date', 'Predicted_Gold_Price']]\n",
    "    predictions_federal_gold.append(pred)\n",
    "    \n",
    "predictions_federal_gold"
   ],
   "metadata": {
    "collapsed": false,
    "ExecuteTime": {
     "end_time": "2024-10-12T18:04:58.077371Z",
     "start_time": "2024-10-12T18:04:57.557138Z"
    }
   },
   "id": "e3221cb79a1c272d",
   "outputs": [
    {
     "data": {
      "text/plain": [
       "[            Date  Predicted_Gold_Price\n",
       " 0     2020-01-01            898.143053\n",
       " 1     2020-01-02            899.727993\n",
       " 2     2020-01-03            901.380731\n",
       " 3     2020-01-04            903.080401\n",
       " 4     2020-01-05            904.978044\n",
       " ...          ...                   ...\n",
       " 1745  2024-10-11           4322.180896\n",
       " 1746  2024-10-12           4337.140897\n",
       " 1747  2024-10-13           4354.262000\n",
       " 1748  2024-10-14           4371.854181\n",
       " 1749  2024-10-15           4390.169240\n",
       " \n",
       " [1750 rows x 2 columns]]"
      ]
     },
     "execution_count": 84,
     "metadata": {},
     "output_type": "execute_result"
    }
   ],
   "execution_count": 84
  },
  {
   "metadata": {
    "ExecuteTime": {
     "end_time": "2024-10-12T18:04:58.657398Z",
     "start_time": "2024-10-12T18:04:58.179969Z"
    }
   },
   "cell_type": "code",
   "source": [
    "predictions_house_gold = []\n",
    "for i, model in enumerate(model_list2):\n",
    "    future = model.make_future_dataframe(periods=290)\n",
    "    last_known_house_index = merged_data_list_house_gold[i]['smoothed_log_housing_index'].iloc[-1]\n",
    "    future['smoothed_log_housing_index'] = last_known_house_index\n",
    "    forecast = model.predict(future)\n",
    "    forecast['Predicted_Gold_Price'] = np.exp(forecast['yhat'])\n",
    "    forecast['Date'] = forecast['ds'].dt.date\n",
    "    pred = forecast[['Date', 'Predicted_Gold_Price']]\n",
    "    predictions_house_gold.append(pred)\n",
    "\n",
    "predictions_house_gold"
   ],
   "id": "f2ce4cf85ee0f0c9",
   "outputs": [
    {
     "data": {
      "text/plain": [
       "[            Date  Predicted_Gold_Price\n",
       " 0     2020-01-01            709.380006\n",
       " 1     2020-01-02            710.797106\n",
       " 2     2020-01-03            712.260309\n",
       " 3     2020-01-04            713.745294\n",
       " 4     2020-01-05            715.403878\n",
       " ...          ...                   ...\n",
       " 1745  2024-10-11           4593.689236\n",
       " 1746  2024-10-12           4608.462816\n",
       " 1747  2024-10-13           4625.444728\n",
       " 1748  2024-10-14           4642.661574\n",
       " 1749  2024-10-15           4660.595630\n",
       " \n",
       " [1750 rows x 2 columns]]"
      ]
     },
     "execution_count": 85,
     "metadata": {},
     "output_type": "execute_result"
    }
   ],
   "execution_count": 85
  },
  {
   "cell_type": "code",
   "source": [
    "gold_prices_target['Date'] = pd.to_datetime(gold_prices_target['date'])\n",
    "gold_prices_target['Date'] = gold_prices_target['Date'].dt.date\n",
    "gold_prices_target.drop(columns=['date'], inplace=True)\n",
    "gold_prices_target.set_index('Date' , inplace=True)"
   ],
   "metadata": {
    "collapsed": false,
    "ExecuteTime": {
     "end_time": "2024-10-12T18:04:58.789799Z",
     "start_time": "2024-10-12T18:04:58.746399Z"
    }
   },
   "id": "c379f0c9e510b1f7",
   "outputs": [],
   "execution_count": 86
  },
  {
   "cell_type": "code",
   "source": [
    "crude_oil_prices.head()"
   ],
   "metadata": {
    "collapsed": false,
    "ExecuteTime": {
     "end_time": "2024-10-12T18:04:58.872938Z",
     "start_time": "2024-10-12T18:04:58.830765Z"
    }
   },
   "id": "66153e2d38dae9aa",
   "outputs": [
    {
     "data": {
      "text/plain": [
       "         Date  WTI Oil Price FOB (Dollars per Barrel)  \\\n",
       "0  2020-01-01                                   61.17   \n",
       "1  2020-01-02                                   61.17   \n",
       "2  2020-01-03                                   63.00   \n",
       "3  2020-01-04                                   63.00   \n",
       "4  2020-01-05                                   63.00   \n",
       "\n",
       "   Europe Brent Crude Oil (Dollars per Barrel)  \n",
       "0                                        67.05  \n",
       "1                                        67.05  \n",
       "2                                        69.08  \n",
       "3                                        69.08  \n",
       "4                                        69.08  "
      ],
      "text/html": [
       "<div>\n",
       "<style scoped>\n",
       "    .dataframe tbody tr th:only-of-type {\n",
       "        vertical-align: middle;\n",
       "    }\n",
       "\n",
       "    .dataframe tbody tr th {\n",
       "        vertical-align: top;\n",
       "    }\n",
       "\n",
       "    .dataframe thead th {\n",
       "        text-align: right;\n",
       "    }\n",
       "</style>\n",
       "<table border=\"1\" class=\"dataframe\">\n",
       "  <thead>\n",
       "    <tr style=\"text-align: right;\">\n",
       "      <th></th>\n",
       "      <th>Date</th>\n",
       "      <th>WTI Oil Price FOB (Dollars per Barrel)</th>\n",
       "      <th>Europe Brent Crude Oil (Dollars per Barrel)</th>\n",
       "    </tr>\n",
       "  </thead>\n",
       "  <tbody>\n",
       "    <tr>\n",
       "      <th>0</th>\n",
       "      <td>2020-01-01</td>\n",
       "      <td>61.17</td>\n",
       "      <td>67.05</td>\n",
       "    </tr>\n",
       "    <tr>\n",
       "      <th>1</th>\n",
       "      <td>2020-01-02</td>\n",
       "      <td>61.17</td>\n",
       "      <td>67.05</td>\n",
       "    </tr>\n",
       "    <tr>\n",
       "      <th>2</th>\n",
       "      <td>2020-01-03</td>\n",
       "      <td>63.00</td>\n",
       "      <td>69.08</td>\n",
       "    </tr>\n",
       "    <tr>\n",
       "      <th>3</th>\n",
       "      <td>2020-01-04</td>\n",
       "      <td>63.00</td>\n",
       "      <td>69.08</td>\n",
       "    </tr>\n",
       "    <tr>\n",
       "      <th>4</th>\n",
       "      <td>2020-01-05</td>\n",
       "      <td>63.00</td>\n",
       "      <td>69.08</td>\n",
       "    </tr>\n",
       "  </tbody>\n",
       "</table>\n",
       "</div>"
      ]
     },
     "execution_count": 87,
     "metadata": {},
     "output_type": "execute_result"
    }
   ],
   "execution_count": 87
  },
  {
   "cell_type": "code",
   "source": [
    "crude_oil_prices['Date'] = pd.to_datetime(crude_oil_prices['Date'])\n",
    "crude_oil_prices['Date'] = crude_oil_prices['Date'].dt.date\n",
    "crude_oil_prices.set_index('Date' , inplace=True)"
   ],
   "metadata": {
    "collapsed": false,
    "ExecuteTime": {
     "end_time": "2024-10-12T18:04:58.974837Z",
     "start_time": "2024-10-12T18:04:58.935074Z"
    }
   },
   "id": "c9c1b8daf43a6dc5",
   "outputs": [],
   "execution_count": 88
  },
  {
   "cell_type": "code",
   "source": [
    "features_df = pd.DataFrame(crude_oil_prices['Europe Brent Crude Oil (Dollars per Barrel)'].pct_change() * 100).shift(-1)\n",
    "X = features_df[['Europe Brent Crude Oil (Dollars per Barrel)']]\n",
    "X"
   ],
   "metadata": {
    "collapsed": false,
    "ExecuteTime": {
     "end_time": "2024-10-12T18:04:59.102079Z",
     "start_time": "2024-10-12T18:04:59.042974Z"
    }
   },
   "id": "3a239ce1bdffaecc",
   "outputs": [
    {
     "data": {
      "text/plain": [
       "            Europe Brent Crude Oil (Dollars per Barrel)\n",
       "Date                                                   \n",
       "2020-01-01                                     0.000000\n",
       "2020-01-02                                     3.027591\n",
       "2020-01-03                                     0.000000\n",
       "2020-01-04                                     0.000000\n",
       "2020-01-05                                     1.693688\n",
       "...                                                 ...\n",
       "2023-12-26                                     0.922348\n",
       "2023-12-27                                    -2.383599\n",
       "2023-12-28                                    -1.707996\n",
       "2023-12-29                                     0.000000\n",
       "2023-12-30                                          NaN\n",
       "\n",
       "[1460 rows x 1 columns]"
      ],
      "text/html": [
       "<div>\n",
       "<style scoped>\n",
       "    .dataframe tbody tr th:only-of-type {\n",
       "        vertical-align: middle;\n",
       "    }\n",
       "\n",
       "    .dataframe tbody tr th {\n",
       "        vertical-align: top;\n",
       "    }\n",
       "\n",
       "    .dataframe thead th {\n",
       "        text-align: right;\n",
       "    }\n",
       "</style>\n",
       "<table border=\"1\" class=\"dataframe\">\n",
       "  <thead>\n",
       "    <tr style=\"text-align: right;\">\n",
       "      <th></th>\n",
       "      <th>Europe Brent Crude Oil (Dollars per Barrel)</th>\n",
       "    </tr>\n",
       "    <tr>\n",
       "      <th>Date</th>\n",
       "      <th></th>\n",
       "    </tr>\n",
       "  </thead>\n",
       "  <tbody>\n",
       "    <tr>\n",
       "      <th>2020-01-01</th>\n",
       "      <td>0.000000</td>\n",
       "    </tr>\n",
       "    <tr>\n",
       "      <th>2020-01-02</th>\n",
       "      <td>3.027591</td>\n",
       "    </tr>\n",
       "    <tr>\n",
       "      <th>2020-01-03</th>\n",
       "      <td>0.000000</td>\n",
       "    </tr>\n",
       "    <tr>\n",
       "      <th>2020-01-04</th>\n",
       "      <td>0.000000</td>\n",
       "    </tr>\n",
       "    <tr>\n",
       "      <th>2020-01-05</th>\n",
       "      <td>1.693688</td>\n",
       "    </tr>\n",
       "    <tr>\n",
       "      <th>...</th>\n",
       "      <td>...</td>\n",
       "    </tr>\n",
       "    <tr>\n",
       "      <th>2023-12-26</th>\n",
       "      <td>0.922348</td>\n",
       "    </tr>\n",
       "    <tr>\n",
       "      <th>2023-12-27</th>\n",
       "      <td>-2.383599</td>\n",
       "    </tr>\n",
       "    <tr>\n",
       "      <th>2023-12-28</th>\n",
       "      <td>-1.707996</td>\n",
       "    </tr>\n",
       "    <tr>\n",
       "      <th>2023-12-29</th>\n",
       "      <td>0.000000</td>\n",
       "    </tr>\n",
       "    <tr>\n",
       "      <th>2023-12-30</th>\n",
       "      <td>NaN</td>\n",
       "    </tr>\n",
       "  </tbody>\n",
       "</table>\n",
       "<p>1460 rows × 1 columns</p>\n",
       "</div>"
      ]
     },
     "execution_count": 89,
     "metadata": {},
     "output_type": "execute_result"
    }
   ],
   "execution_count": 89
  },
  {
   "cell_type": "markdown",
   "source": [
    "# EDA"
   ],
   "metadata": {
    "collapsed": false
   },
   "id": "a7765e001292ed33"
  },
  {
   "cell_type": "code",
   "source": [
    "gold_prices_target.describe()"
   ],
   "metadata": {
    "collapsed": false,
    "ExecuteTime": {
     "end_time": "2024-10-12T18:04:59.354704Z",
     "start_time": "2024-10-12T18:04:59.279827Z"
    }
   },
   "id": "a06492297c4759b4",
   "outputs": [
    {
     "data": {
      "text/plain": [
       "        pct_change\n",
       "count  1461.000000\n",
       "mean      0.113309\n",
       "std       1.180442\n",
       "min      -6.092843\n",
       "25%      -0.186986\n",
       "50%       0.000000\n",
       "75%       0.373715\n",
       "max      14.916585"
      ],
      "text/html": [
       "<div>\n",
       "<style scoped>\n",
       "    .dataframe tbody tr th:only-of-type {\n",
       "        vertical-align: middle;\n",
       "    }\n",
       "\n",
       "    .dataframe tbody tr th {\n",
       "        vertical-align: top;\n",
       "    }\n",
       "\n",
       "    .dataframe thead th {\n",
       "        text-align: right;\n",
       "    }\n",
       "</style>\n",
       "<table border=\"1\" class=\"dataframe\">\n",
       "  <thead>\n",
       "    <tr style=\"text-align: right;\">\n",
       "      <th></th>\n",
       "      <th>pct_change</th>\n",
       "    </tr>\n",
       "  </thead>\n",
       "  <tbody>\n",
       "    <tr>\n",
       "      <th>count</th>\n",
       "      <td>1461.000000</td>\n",
       "    </tr>\n",
       "    <tr>\n",
       "      <th>mean</th>\n",
       "      <td>0.113309</td>\n",
       "    </tr>\n",
       "    <tr>\n",
       "      <th>std</th>\n",
       "      <td>1.180442</td>\n",
       "    </tr>\n",
       "    <tr>\n",
       "      <th>min</th>\n",
       "      <td>-6.092843</td>\n",
       "    </tr>\n",
       "    <tr>\n",
       "      <th>25%</th>\n",
       "      <td>-0.186986</td>\n",
       "    </tr>\n",
       "    <tr>\n",
       "      <th>50%</th>\n",
       "      <td>0.000000</td>\n",
       "    </tr>\n",
       "    <tr>\n",
       "      <th>75%</th>\n",
       "      <td>0.373715</td>\n",
       "    </tr>\n",
       "    <tr>\n",
       "      <th>max</th>\n",
       "      <td>14.916585</td>\n",
       "    </tr>\n",
       "  </tbody>\n",
       "</table>\n",
       "</div>"
      ]
     },
     "execution_count": 90,
     "metadata": {},
     "output_type": "execute_result"
    }
   ],
   "execution_count": 90
  },
  {
   "cell_type": "code",
   "source": [
    "px.line(gold_prices_target)"
   ],
   "metadata": {
    "collapsed": false,
    "ExecuteTime": {
     "end_time": "2024-10-12T18:04:59.556390Z",
     "start_time": "2024-10-12T18:04:59.502478Z"
    }
   },
   "id": "61cdd03f9b9da29b",
   "outputs": [
    {
     "ename": "NameError",
     "evalue": "name 'px' is not defined",
     "output_type": "error",
     "traceback": [
      "\u001B[0;31m---------------------------------------------------------------------------\u001B[0m",
      "\u001B[0;31mNameError\u001B[0m                                 Traceback (most recent call last)",
      "\u001B[0;32m/var/folders/9k/78917q711pd653_6nv8sqfdh0000gn/T/ipykernel_3718/2743683326.py\u001B[0m in \u001B[0;36m<module>\u001B[0;34m\u001B[0m\n\u001B[0;32m----> 1\u001B[0;31m \u001B[0mpx\u001B[0m\u001B[0;34m.\u001B[0m\u001B[0mline\u001B[0m\u001B[0;34m(\u001B[0m\u001B[0mgold_prices_target\u001B[0m\u001B[0;34m)\u001B[0m\u001B[0;34m\u001B[0m\u001B[0;34m\u001B[0m\u001B[0m\n\u001B[0m",
      "\u001B[0;31mNameError\u001B[0m: name 'px' is not defined"
     ]
    }
   ],
   "execution_count": 91
  },
  {
   "cell_type": "code",
   "outputs": [],
   "source": [
    "crude_oil_prices.describe()"
   ],
   "metadata": {
    "collapsed": false
   },
   "id": "fb56196d21d0a408",
   "execution_count": null
  },
  {
   "cell_type": "code",
   "outputs": [],
   "source": [
    "px.line(crude_oil_prices)"
   ],
   "metadata": {
    "collapsed": false
   },
   "id": "1069781cff4bf00c",
   "execution_count": null
  },
  {
   "cell_type": "markdown",
   "source": [
    "# Feature Selection"
   ],
   "metadata": {
    "collapsed": false
   },
   "id": "8c00974429646b4d"
  },
  {
   "cell_type": "code",
   "outputs": [],
   "source": [
    "features_df = pd.merge(gold_prices_target, (crude_oil_prices['Europe Brent Crude Oil (Dollars per Barrel)'].pct_change() * 100).shift(-1), on='Date', how='left')\n",
    "features_df.fillna(0, inplace=True)\n",
    "features_df"
   ],
   "metadata": {
    "collapsed": false
   },
   "id": "e067780f2c60840a",
   "execution_count": null
  },
  {
   "cell_type": "code",
   "outputs": [],
   "source": [
    "px.line(features_df)"
   ],
   "metadata": {
    "collapsed": false
   },
   "id": "c53db922be8c0fe0",
   "execution_count": null
  },
  {
   "cell_type": "markdown",
   "source": [
    "# Modelling"
   ],
   "metadata": {
    "collapsed": false
   },
   "id": "ae1cb73f9848c767"
  },
  {
   "cell_type": "code",
   "outputs": [],
   "source": [
    "X = features_df[['Europe Brent Crude Oil (Dollars per Barrel)']]  \n",
    "y = features_df['pct_change']\n",
    "X_train, X_test, y_train, y_test = train_test_split(X, y, test_size=0.2, shuffle=False)"
   ],
   "metadata": {
    "collapsed": false
   },
   "id": "ca9bc8da074fdd2",
   "execution_count": null
  },
  {
   "cell_type": "code",
   "outputs": [],
   "source": [
    "model = LinearRegression()\n",
    "model.fit(X_train, y_train)\n",
    "y_pred = model.predict(X_test)"
   ],
   "metadata": {
    "collapsed": false
   },
   "id": "e64c5e22f2933a5b",
   "execution_count": null
  },
  {
   "cell_type": "markdown",
   "source": [
    "## Validation"
   ],
   "metadata": {
    "collapsed": false
   },
   "id": "6d8c289596ad115d"
  },
  {
   "cell_type": "code",
   "outputs": [],
   "source": [
    "start_time = time.time()\n",
    "y_pred = model.predict(X_test)\n",
    "end_time = time.time()\n",
    "inference_time = end_time - start_time\n",
    "\n",
    "rmse = np.sqrt(mean_squared_error(y_test, y_pred))\n",
    "\n",
    "mda = np.mean(np.sign(np.diff(y_test)) == np.sign(np.diff(y_pred)))\n",
    "\n",
    "y_test_buckets = pd.qcut(y_test, 4, labels=False) \n",
    "y_pred_buckets = pd.qcut(y_pred, 4, labels=False)\n",
    "\n",
    "f1 = f1_score(y_test_buckets, y_pred_buckets, average='weighted')\n",
    "\n",
    "print(f'Root Mean Squared Error: {rmse}')\n",
    "print(f'Mean Directional Accuracy: {mda}')\n",
    "print(f'Bucketized F1 Score: {f1}')\n",
    "print(f'Inference Time (seconds): {inference_time}')\n"
   ],
   "metadata": {
    "collapsed": false
   },
   "id": "490c2e821f39ea0e",
   "execution_count": null
  },
  {
   "cell_type": "markdown",
   "source": [
    "## Visualize the results"
   ],
   "metadata": {
    "collapsed": false
   },
   "id": "527decad24ec0806"
  },
  {
   "cell_type": "code",
   "outputs": [],
   "source": [
    "plt.figure(figsize=(10, 6))\n",
    "plt.plot(features_df.index, y, label='Actual Target Variable', color='blue')\n",
    "plt.plot(X_test.index, y_pred, label='Predicted Target Variable', color='red')\n",
    "plt.title('Linear Regression Model')\n",
    "plt.xlabel('Date')\n",
    "plt.ylabel('Target Variable')\n",
    "plt.legend()\n",
    "plt.show()"
   ],
   "metadata": {
    "collapsed": false
   },
   "id": "88143881d6c6b6f3",
   "execution_count": null
  },
  {
   "cell_type": "markdown",
   "source": [
    "# Saving Model"
   ],
   "metadata": {
    "collapsed": false
   },
   "id": "775680d53105d0c6"
  },
  {
   "cell_type": "code",
   "outputs": [],
   "source": [
    "with open('../Pickles/linear_regression_model.pkl', 'wb') as file:\n",
    "    pickle.dump(model, file)"
   ],
   "metadata": {
    "collapsed": false
   },
   "id": "d4dbc467c370bef5",
   "execution_count": null
  },
  {
   "cell_type": "markdown",
   "source": [
    "# Loading Model"
   ],
   "metadata": {
    "collapsed": false
   },
   "id": "616d0c4d0678e4fc"
  },
  {
   "cell_type": "code",
   "outputs": [],
   "source": [
    "with open('../Pickles/linear_regression_model.pkl', 'rb') as file:\n",
    "    loaded_model = pickle.load(file)\n",
    "\n",
    "y_pred = loaded_model.predict(X_test)\n",
    "output_df = pd.DataFrame({\n",
    "    'date': X_test.index,\n",
    "    'prediction': y_pred.flatten()\n",
    "})\n",
    "output_df"
   ],
   "metadata": {
    "collapsed": false
   },
   "id": "90d1d8505c2e41c",
   "execution_count": null
  }
 ],
 "metadata": {
  "kernelspec": {
   "display_name": "Python 3",
   "language": "python",
   "name": "python3"
  },
  "language_info": {
   "codemirror_mode": {
    "name": "ipython",
    "version": 2
   },
   "file_extension": ".py",
   "mimetype": "text/x-python",
   "name": "python",
   "nbconvert_exporter": "python",
   "pygments_lexer": "ipython2",
   "version": "2.7.6"
  }
 },
 "nbformat": 4,
 "nbformat_minor": 5
}
