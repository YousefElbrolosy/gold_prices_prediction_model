{
 "cells": [
  {
   "cell_type": "markdown",
   "source": [
    "# Importing Libraries"
   ],
   "metadata": {
    "collapsed": false
   },
   "id": "cb7de77a0ba0aeb8"
  },
  {
   "cell_type": "code",
   "id": "initial_id",
   "metadata": {
    "collapsed": true,
    "ExecuteTime": {
     "end_time": "2024-10-12T18:43:38.299755Z",
     "start_time": "2024-10-12T18:43:38.200435Z"
    }
   },
   "source": [
    "import warnings\n",
    "import numpy as np\n",
    "import pandas as pd\n",
    "from sklearn.model_selection import train_test_split\n",
    "from sklearn.linear_model import LinearRegression\n",
    "import matplotlib.pyplot as plt\n",
    "from sklearn.metrics import mean_squared_error, f1_score\n",
    "import time\n",
    "import pickle \n",
    "from prophet import Prophet\n",
    "from sklearn.metrics import mean_absolute_error\n",
    "\n",
    "warnings.simplefilter(action='ignore', category=FutureWarning)\n",
    "\n",
    "%load_ext autoreload\n",
    "%autoreload 2\n"
   ],
   "outputs": [
    {
     "name": "stdout",
     "output_type": "stream",
     "text": [
      "The autoreload extension is already loaded. To reload it, use:\n",
      "  %reload_ext autoreload\n"
     ]
    }
   ],
   "execution_count": 54
  },
  {
   "cell_type": "markdown",
   "source": [
    "# Reading Files"
   ],
   "metadata": {
    "collapsed": false
   },
   "id": "170f3a3b6310c8e8"
  },
  {
   "cell_type": "code",
   "source": [
    "crude_oil_prices = pd.read_csv('../InputData/crude_oil_prices.csv')\n",
    "federal_rates = pd.read_csv('../InputData/effective_federal_funds_rate.csv')\n",
    "corridor_rates = pd.read_csv('../InputData/egyptian_corridor_interest_rates.csv')\n",
    "housing_index = pd.read_csv('../InputData/housing_index.csv')\n",
    "inflation_mom = pd.read_csv('../InputData/inflation_month_on_month.csv')\n",
    "inflation_yoy = pd.read_csv('../InputData/inflation_year_on_year.csv')\n",
    "news_data = pd.read_csv('../InputData/news.csv')\n",
    "stock_prices = pd.read_csv('../InputData/stocks_prices_and_volumes.csv')\n",
    "vix_indices = pd.read_csv('../InputData/vix_index.csv')\n",
    "vixeem_indices = pd.read_csv('../InputData/vxeem_index.csv')\n",
    "gold_prices = pd.read_csv('../InputData/intraday_gold.csv')\n",
    "gold_prices_target = pd.read_csv('../InputData/target_gold.csv')"
   ],
   "metadata": {
    "collapsed": false,
    "ExecuteTime": {
     "end_time": "2024-10-12T18:43:39.019280Z",
     "start_time": "2024-10-12T18:43:38.319475Z"
    }
   },
   "id": "c2cf553fe3751e19",
   "outputs": [],
   "execution_count": 55
  },
  {
   "cell_type": "code",
   "source": [
    "gold_prices_target.head()"
   ],
   "metadata": {
    "collapsed": false,
    "ExecuteTime": {
     "end_time": "2024-10-12T18:43:39.066495Z",
     "start_time": "2024-10-12T18:43:39.044072Z"
    }
   },
   "id": "7987b73ff1c68863",
   "outputs": [
    {
     "data": {
      "text/plain": [
       "         date  pct_change\n",
       "0  2020-01-01    0.129032\n",
       "1  2020-01-02    1.288660\n",
       "2  2020-01-03    0.636132\n",
       "3  2020-01-04    0.126422\n",
       "4  2020-01-05    1.262626"
      ],
      "text/html": [
       "<div>\n",
       "<style scoped>\n",
       "    .dataframe tbody tr th:only-of-type {\n",
       "        vertical-align: middle;\n",
       "    }\n",
       "\n",
       "    .dataframe tbody tr th {\n",
       "        vertical-align: top;\n",
       "    }\n",
       "\n",
       "    .dataframe thead th {\n",
       "        text-align: right;\n",
       "    }\n",
       "</style>\n",
       "<table border=\"1\" class=\"dataframe\">\n",
       "  <thead>\n",
       "    <tr style=\"text-align: right;\">\n",
       "      <th></th>\n",
       "      <th>date</th>\n",
       "      <th>pct_change</th>\n",
       "    </tr>\n",
       "  </thead>\n",
       "  <tbody>\n",
       "    <tr>\n",
       "      <th>0</th>\n",
       "      <td>2020-01-01</td>\n",
       "      <td>0.129032</td>\n",
       "    </tr>\n",
       "    <tr>\n",
       "      <th>1</th>\n",
       "      <td>2020-01-02</td>\n",
       "      <td>1.288660</td>\n",
       "    </tr>\n",
       "    <tr>\n",
       "      <th>2</th>\n",
       "      <td>2020-01-03</td>\n",
       "      <td>0.636132</td>\n",
       "    </tr>\n",
       "    <tr>\n",
       "      <th>3</th>\n",
       "      <td>2020-01-04</td>\n",
       "      <td>0.126422</td>\n",
       "    </tr>\n",
       "    <tr>\n",
       "      <th>4</th>\n",
       "      <td>2020-01-05</td>\n",
       "      <td>1.262626</td>\n",
       "    </tr>\n",
       "  </tbody>\n",
       "</table>\n",
       "</div>"
      ]
     },
     "execution_count": 56,
     "metadata": {},
     "output_type": "execute_result"
    }
   ],
   "execution_count": 56
  },
  {
   "metadata": {
    "ExecuteTime": {
     "end_time": "2024-10-12T18:43:39.272591Z",
     "start_time": "2024-10-12T18:43:39.108717Z"
    }
   },
   "cell_type": "code",
   "source": [
    "merged_data_list_federal_gold = []\n",
    "\n",
    "# Convert 'Date' columns to date object\n",
    "federal_rates['Date'] = pd.to_datetime(federal_rates['Date']).dt.date\n",
    "gold_prices['Timestamp'] = pd.to_datetime(gold_prices['Timestamp'], errors='coerce', utc=True)\n",
    "gold_prices['Date'] = gold_prices['Timestamp'].dt.date\n",
    "\n",
    "# Get daily gold prices\n",
    "gold_daily = gold_prices.groupby('Date').last().reset_index()\n",
    "\n",
    "for federal_rates_column in federal_rates.columns:\n",
    "    if federal_rates_column == 'Date':\n",
    "        continue\n",
    "\n",
    "    # Get start and end dates relative to each dataset\n",
    "    start_date = max(federal_rates['Date'].min(), gold_daily['Date'].min())\n",
    "    end_date = min(federal_rates['Date'].max(), gold_daily['Date'].max())\n",
    "\n",
    "    # Filter the data based on start and end date\n",
    "    federal_rates_filtered = federal_rates[(federal_rates['Date'] >= start_date) & (federal_rates['Date'] <= end_date)]\n",
    "    gold_daily_filtered = gold_daily[(gold_daily['Date'] >= start_date) & (gold_daily['Date'] <= end_date)]\n",
    "\n",
    "    # Merge the two datasets on 'Date'\n",
    "    merged_data = pd.merge(federal_rates_filtered, gold_daily_filtered, on='Date', how='inner')\n",
    "\n",
    "    # Ensure the columns are numeric\n",
    "    merged_data[federal_rates_column] = pd.to_numeric(merged_data[federal_rates_column], errors='coerce')\n",
    "    merged_data['24K'] = pd.to_numeric(merged_data['24K'], errors='coerce')\n",
    "\n",
    "    # Apply interpolation only to numeric columns\n",
    "    numeric_cols = merged_data.select_dtypes(include=['float64', 'int64']).columns\n",
    "    merged_data[numeric_cols] = merged_data[numeric_cols].interpolate(method='linear', limit_direction='both')\n",
    "\n",
    "    # Create Log Columns\n",
    "    merged_data['log_federal_rates'] = np.log(merged_data[federal_rates_column] + 1)\n",
    "    merged_data['Log_Gold_Price'] = np.log(merged_data['24K'] + 1)\n",
    "\n",
    "    # Calculate the mean and standard deviation for both series\n",
    "    mean_gold_price = merged_data['Log_Gold_Price'].mean()\n",
    "    std_gold_price = merged_data['Log_Gold_Price'].std()\n",
    "    mean_stock_price = merged_data['log_federal_rates'].mean()\n",
    "    std_stock_price = merged_data['log_federal_rates'].std()\n",
    "\n",
    "    # Calculate thresholds for outliers\n",
    "    threshold_upper_gold = mean_gold_price + 2 * std_gold_price\n",
    "    threshold_lower_gold = mean_gold_price - 2 * std_gold_price\n",
    "    threshold_upper_stock = mean_stock_price + 2 * std_stock_price\n",
    "    threshold_lower_stock = mean_stock_price - 2 * std_stock_price\n",
    "\n",
    "    # Remove duplicate dates\n",
    "    date_range = pd.date_range(start=start_date, end=end_date, freq='D')\n",
    "    merged_data = merged_data.drop_duplicates(subset='Date')\n",
    "\n",
    "    # Mask outliers\n",
    "    outlier_mask_gold = (merged_data['Log_Gold_Price'] < threshold_lower_gold) | (merged_data['Log_Gold_Price'] > threshold_upper_gold)\n",
    "    outlier_mask_stock = (merged_data['log_federal_rates'] < threshold_lower_stock) | (merged_data['log_federal_rates'] > threshold_upper_stock)\n",
    "\n",
    "    # Set outliers to NaN\n",
    "    merged_data.loc[outlier_mask_gold, 'Log_Gold_Price'] = np.nan\n",
    "    merged_data.loc[outlier_mask_stock, 'log_federal_rates'] = np.nan\n",
    "\n",
    "    # Interpolate missing values for log columns\n",
    "    merged_data['Log_Gold_Price'] = merged_data['Log_Gold_Price'].interpolate(method='linear')\n",
    "    merged_data['log_federal_rates'] = merged_data['log_federal_rates'].interpolate(method='linear')\n",
    "\n",
    "    # Apply rolling mean for smoothing\n",
    "    merged_data['smoothed_log_federal_rates'] = merged_data['log_federal_rates'].rolling(window=7, min_periods=1).mean()\n",
    "    merged_data['Smoothed_Log_Gold_Price'] = merged_data['Log_Gold_Price'].rolling(window=7, min_periods=1).mean()\n",
    "\n",
    "    # Filter necessary columns and reindex using the date range\n",
    "    filtered_data = merged_data[['Date', 'smoothed_log_federal_rates', 'Smoothed_Log_Gold_Price']]\n",
    "    filtered_data = filtered_data.set_index('Date').reindex(date_range).reset_index()\n",
    "\n",
    "    # Apply interpolation only to numeric columns after reindexing\n",
    "    numeric_filtered_cols = filtered_data.select_dtypes(include=['float64', 'int64']).columns\n",
    "    filtered_data[numeric_filtered_cols] = filtered_data[numeric_filtered_cols].interpolate(method='linear')\n",
    "\n",
    "    # No dropping rows, keeping NaNs as is\n",
    "\n",
    "    merged_data_list_federal_gold.append(filtered_data)\n",
    "\n",
    "    # Plot the results\n",
    "    plt.figure(figsize=(10, 6))\n",
    "    plt.plot(filtered_data['smoothed_log_federal_rates'], label='Federal Rates', color='blue')\n",
    "    plt.plot(filtered_data['Smoothed_Log_Gold_Price'], label='Gold Price', color='red')\n",
    "    plt.title('Federal Rates and Gold Prices')\n",
    "    plt.xlabel('Date')\n",
    "    plt.ylabel('Log Price')\n",
    "    plt.legend()\n",
    "    plt.show()\n"
   ],
   "id": "240dfb63d23f472f",
   "outputs": [
    {
     "data": {
      "text/plain": [
       "<Figure size 1000x600 with 1 Axes>"
      ],
      "image/png": "[encoded data removed]"
     },
     "metadata": {},
     "output_type": "display_data"
    }
   ],
   "execution_count": 57
  },
  {
   "metadata": {
    "ExecuteTime": {
     "end_time": "2024-10-12T18:43:39.552438Z",
     "start_time": "2024-10-12T18:43:39.307643Z"
    }
   },
   "cell_type": "code",
   "source": [
    "merged_data_list_house_gold = []\n",
    "\n",
    "# Convert 'Date' columns to date object\n",
    "housing_index['Date'] = pd.to_datetime(housing_index['Date']).dt.date\n",
    "gold_prices['Timestamp'] = pd.to_datetime(gold_prices['Timestamp'], errors='coerce', utc=True)\n",
    "gold_prices['Date'] = gold_prices['Timestamp'].dt.date\n",
    "\n",
    "# Get daily gold prices\n",
    "gold_daily = gold_prices.groupby('Date').last().reset_index()\n",
    "\n",
    "for housing_index_column in housing_index.columns:\n",
    "    if housing_index_column == 'Date':\n",
    "        continue\n",
    "\n",
    "    # Get start and end dates relative to each dataset\n",
    "    start_date = max(housing_index['Date'].min(), gold_daily['Date'].min())\n",
    "    end_date = min(housing_index['Date'].max(), gold_daily['Date'].max())\n",
    "\n",
    "    # Filter the data based on start and end date\n",
    "    housing_index_filtered = housing_index[(housing_index['Date'] >= start_date) & (housing_index['Date'] <= end_date)]\n",
    "    gold_daily_filtered = gold_daily[(gold_daily['Date'] >= start_date) & (gold_daily['Date'] <= end_date)]\n",
    "\n",
    "    # Merge the two datasets on 'Date'\n",
    "    merged_data = pd.merge(housing_index_filtered, gold_daily_filtered, on='Date', how='inner')\n",
    "\n",
    "    # Apply interpolation only to numeric columns\n",
    "    numeric_cols = merged_data.select_dtypes(include=['float64', 'int64']).columns\n",
    "    merged_data[numeric_cols] = merged_data[numeric_cols].interpolate(method='linear', limit_direction='both')\n",
    "\n",
    "    # Create Log Columns\n",
    "    merged_data['log_housing_index'] = np.log(merged_data[housing_index_column] + 1)\n",
    "    merged_data['Log_Gold_Price'] = np.log(merged_data['24K'] + 1)\n",
    "\n",
    "    # Calculate the mean and standard deviation for both series\n",
    "    mean_gold_price = merged_data['Log_Gold_Price'].mean()\n",
    "    std_gold_price = merged_data['Log_Gold_Price'].std()\n",
    "    mean_stock_price = merged_data['log_housing_index'].mean()\n",
    "    std_stock_price = merged_data['log_housing_index'].std()\n",
    "\n",
    "    # Calculate thresholds for outliers\n",
    "    threshold_upper_gold = mean_gold_price + 2 * std_gold_price\n",
    "    threshold_lower_gold = mean_gold_price - 2 * std_gold_price\n",
    "    threshold_upper_stock = mean_stock_price + 2 * std_stock_price\n",
    "    threshold_lower_stock = mean_stock_price - 2 * std_stock_price\n",
    "\n",
    "    # Remove duplicate dates\n",
    "    date_range = pd.date_range(start=start_date, end=end_date, freq='D')\n",
    "    merged_data = merged_data.drop_duplicates(subset='Date')\n",
    "\n",
    "    # Mask outliers\n",
    "    outlier_mask_gold = (merged_data['Log_Gold_Price'] < threshold_lower_gold) | (merged_data['Log_Gold_Price'] > threshold_upper_gold)\n",
    "    outlier_mask_stock = (merged_data['log_housing_index'] < threshold_lower_stock) | (merged_data['log_housing_index'] > threshold_upper_stock)\n",
    "\n",
    "    # Set outliers to NaN\n",
    "    merged_data.loc[outlier_mask_gold, 'Log_Gold_Price'] = np.nan\n",
    "    merged_data.loc[outlier_mask_stock, 'log_housing_index'] = np.nan\n",
    "\n",
    "    # Interpolate missing values for log columns\n",
    "    merged_data['Log_Gold_Price'] = merged_data['Log_Gold_Price'].interpolate(method='linear')\n",
    "    merged_data['log_housing_index'] = merged_data['log_housing_index'].interpolate(method='linear')\n",
    "\n",
    "    # Apply rolling mean for smoothing\n",
    "    merged_data['smoothed_log_housing_index'] = merged_data['log_housing_index'].rolling(window=7, min_periods=1).mean()\n",
    "    merged_data['Smoothed_Log_Gold_Price'] = merged_data['Log_Gold_Price'].rolling(window=7, min_periods=1).mean()\n",
    "\n",
    "    # Filter necessary columns and reindex using the date range\n",
    "    filtered_data = merged_data[['Date', 'smoothed_log_housing_index', 'Smoothed_Log_Gold_Price']]\n",
    "    filtered_data = filtered_data.set_index('Date').reindex(date_range).reset_index()\n",
    "\n",
    "    # Apply interpolation only to numeric columns after reindexing\n",
    "    numeric_filtered_cols = filtered_data.select_dtypes(include=['float64', 'int64']).columns\n",
    "    filtered_data[numeric_filtered_cols] = filtered_data[numeric_filtered_cols].interpolate(method='linear')\n",
    "\n",
    "    # No dropping rows, keeping NaNs as is\n",
    "\n",
    "    merged_data_list_house_gold.append(filtered_data)\n",
    "\n",
    "    # Plot the results\n",
    "    plt.figure(figsize=(10, 6))\n",
    "    plt.plot(filtered_data['smoothed_log_housing_index'], label='House Index', color='blue')\n",
    "    plt.plot(filtered_data['Smoothed_Log_Gold_Price'], label='Gold Price', color='red')\n",
    "    plt.title('Housing Index and Gold Prices')\n",
    "    plt.xlabel('Date')\n",
    "    plt.ylabel('Log Price')\n",
    "    plt.legend()\n",
    "    plt.show()\n"
   ],
   "id": "4f2059e889141f31",
   "outputs": [
    {
     "data": {
      "text/plain": [
       "<Figure size 1000x600 with 1 Axes>"
      ],
      "image/png": "[encoded data removed]"
     },
     "metadata": {},
     "output_type": "display_data"
    }
   ],
   "execution_count": 58
  },
  {
   "metadata": {
    "ExecuteTime": {
     "end_time": "2024-10-12T18:43:40.027408Z",
     "start_time": "2024-10-12T18:43:39.688289Z"
    }
   },
   "cell_type": "code",
   "source": [
    "merged_data_list_crude_gold = []\n",
    "\n",
    "# Convert 'Date' columns to date object\n",
    "crude_oil_prices['Date'] = pd.to_datetime(crude_oil_prices['Date']).dt.date\n",
    "gold_prices['Timestamp'] = pd.to_datetime(gold_prices['Timestamp'], errors='coerce', utc=True)\n",
    "gold_prices['Date'] = gold_prices['Timestamp'].dt.date\n",
    "\n",
    "# Get daily gold prices\n",
    "gold_daily = gold_prices.groupby('Date').last().reset_index()\n",
    "\n",
    "for crude_oil_prices_column in crude_oil_prices.columns:\n",
    "    if crude_oil_prices_column == 'Date':\n",
    "        continue\n",
    "\n",
    "    # Get start and end dates relative to each dataset\n",
    "    start_date = max(crude_oil_prices['Date'].min(), gold_daily['Date'].min())\n",
    "    end_date = min(crude_oil_prices['Date'].max(), gold_daily['Date'].max())\n",
    "\n",
    "    # Filter the data based on start and end date\n",
    "    crude_oil_prices_filtered = crude_oil_prices[(crude_oil_prices['Date'] >= start_date) & (crude_oil_prices['Date'] <= end_date)]\n",
    "    gold_daily_filtered = gold_daily[(gold_daily['Date'] >= start_date) & (gold_daily['Date'] <= end_date)]\n",
    "\n",
    "    # Merge the two datasets on 'Date'\n",
    "    merged_data = pd.merge(crude_oil_prices_filtered, gold_daily_filtered, on='Date', how='inner')\n",
    "\n",
    "    # Apply interpolation only to numeric columns\n",
    "    numeric_cols = merged_data.select_dtypes(include=['float64', 'int64']).columns\n",
    "    merged_data[numeric_cols] = merged_data[numeric_cols].interpolate(method='linear', limit_direction='both')\n",
    "\n",
    "    # Create Log Columns\n",
    "    merged_data['log_crude_oil_prices'] = np.log(merged_data[crude_oil_prices_column] + 1)\n",
    "    merged_data['Log_Gold_Price'] = np.log(merged_data['24K'] + 1)\n",
    "\n",
    "    # Calculate the mean and standard deviation for both series\n",
    "    mean_gold_price = merged_data['Log_Gold_Price'].mean()\n",
    "    std_gold_price = merged_data['Log_Gold_Price'].std()\n",
    "    mean_stock_price = merged_data['log_crude_oil_prices'].mean()\n",
    "    std_stock_price = merged_data['log_crude_oil_prices'].std()\n",
    "\n",
    "    # Calculate thresholds for outliers\n",
    "    threshold_upper_gold = mean_gold_price + 2 * std_gold_price\n",
    "    threshold_lower_gold = mean_gold_price - 2 * std_gold_price\n",
    "    threshold_upper_stock = mean_stock_price + 2 * std_stock_price\n",
    "    threshold_lower_stock = mean_stock_price - 2 * std_stock_price\n",
    "\n",
    "    # Remove duplicate dates\n",
    "    date_range = pd.date_range(start=start_date, end=end_date, freq='D')\n",
    "    merged_data = merged_data.drop_duplicates(subset='Date')\n",
    "\n",
    "    # Mask outliers\n",
    "    outlier_mask_gold = (merged_data['Log_Gold_Price'] < threshold_lower_gold) | (merged_data['Log_Gold_Price'] > threshold_upper_gold)\n",
    "    outlier_mask_stock = (merged_data['log_crude_oil_prices'] < threshold_lower_stock) | (merged_data['log_crude_oil_prices'] > threshold_upper_stock)\n",
    "\n",
    "    # Set outliers to NaN\n",
    "    merged_data.loc[outlier_mask_gold, 'Log_Gold_Price'] = np.nan\n",
    "    merged_data.loc[outlier_mask_stock, 'log_crude_oil_prices'] = np.nan\n",
    "\n",
    "    # Interpolate missing values for log columns\n",
    "    merged_data['Log_Gold_Price'] = merged_data['Log_Gold_Price'].interpolate(method='linear')\n",
    "    merged_data['log_crude_oil_prices'] = merged_data['log_crude_oil_prices'].interpolate(method='linear')\n",
    "\n",
    "    # Apply rolling mean for smoothing\n",
    "    merged_data['smoothed_log_crude_oil_prices'] = merged_data['log_crude_oil_prices'].rolling(window=7, min_periods=1).mean()\n",
    "    merged_data['Smoothed_Log_Gold_Price'] = merged_data['Log_Gold_Price'].rolling(window=7, min_periods=1).mean()\n",
    "\n",
    "    # Filter necessary columns and reindex using the date range\n",
    "    filtered_data = merged_data[['Date', 'smoothed_log_crude_oil_prices', 'Smoothed_Log_Gold_Price']]\n",
    "    filtered_data = filtered_data.set_index('Date').reindex(date_range).reset_index()\n",
    "\n",
    "    # Apply interpolation only to numeric columns after reindexing\n",
    "    numeric_filtered_cols = filtered_data.select_dtypes(include=['float64', 'int64']).columns\n",
    "    filtered_data[numeric_filtered_cols] = filtered_data[numeric_filtered_cols].interpolate(method='linear')\n",
    "\n",
    "    # No dropping rows, keeping NaNs as is\n",
    "\n",
    "    merged_data_list_crude_gold.append(filtered_data)\n",
    "\n",
    "    # Plot the results\n",
    "    plt.figure(figsize=(10, 6))\n",
    "    plt.plot(filtered_data['smoothed_log_crude_oil_prices'], label='Crude Oil', color='blue')\n",
    "    plt.plot(filtered_data['Smoothed_Log_Gold_Price'], label='Gold Price', color='red')\n",
    "    plt.title('Crude Oil and Gold Prices')\n",
    "    plt.xlabel('Date')\n",
    "    plt.ylabel('Log Price')\n",
    "    plt.legend()\n",
    "    plt.show()"
   ],
   "id": "5f7def68d8f59b39",
   "outputs": [
    {
     "name": "stderr",
     "output_type": "stream",
     "text": [
      "/Users/youssefmansour/opt/anaconda3/lib/python3.9/site-packages/pandas/core/arraylike.py:399: RuntimeWarning: invalid value encountered in log\n",
      "  result = getattr(ufunc, method)(*inputs, **kwargs)\n"
     ]
    },
    {
     "data": {
      "text/plain": [
       "<Figure size 1000x600 with 1 Axes>"
      ],
      "image/png": "[encoded data removed]"
     },
     "metadata": {},
     "output_type": "display_data"
    },
    {
     "data": {
      "text/plain": [
       "<Figure size 1000x600 with 1 Axes>"
      ],
      "image/png": "[encoded data removed]"
     },
     "metadata": {},
     "output_type": "display_data"
    }
   ],
   "execution_count": 59
  },
  {
   "cell_type": "code",
   "source": [
    "model_list = []\n",
    "for merged_data_for_model in merged_data_list_federal_gold:\n",
    "    df = merged_data_for_model[['index', 'Smoothed_Log_Gold_Price']]\n",
    "    df.columns = ['ds', 'y']\n",
    "    df['smoothed_log_federal_rates'] = merged_data_for_model['smoothed_log_federal_rates']\n",
    "    model = Prophet()\n",
    "    model.add_regressor('smoothed_log_federal_rates')\n",
    "    model.fit(df)\n",
    "    model_list.append(model)\n",
    "\n",
    "    "
   ],
   "metadata": {
    "collapsed": false,
    "ExecuteTime": {
     "end_time": "2024-10-12T18:43:41.089710Z",
     "start_time": "2024-10-12T18:43:40.060636Z"
    }
   },
   "id": "aa8b50cd9a53e253",
   "outputs": [
    {
     "name": "stderr",
     "output_type": "stream",
     "text": [
      "21:43:40 - cmdstanpy - INFO - Chain [1] start processing\n",
      "21:43:41 - cmdstanpy - INFO - Chain [1] done processing\n"
     ]
    }
   ],
   "execution_count": 60
  },
  {
   "metadata": {
    "ExecuteTime": {
     "end_time": "2024-10-12T18:43:42.076781Z",
     "start_time": "2024-10-12T18:43:41.142183Z"
    }
   },
   "cell_type": "code",
   "source": [
    "model_list2 = []\n",
    "for merged_data_for_model in merged_data_list_house_gold:\n",
    "    df = merged_data_for_model[['index', 'Smoothed_Log_Gold_Price']]\n",
    "    df.columns = ['ds', 'y']\n",
    "    df['smoothed_log_housing_index'] = merged_data_for_model['smoothed_log_housing_index']\n",
    "    model = Prophet()\n",
    "    model.add_regressor('smoothed_log_housing_index')\n",
    "    model.fit(df)\n",
    "    model_list2.append(model)"
   ],
   "id": "87066eb4f7449ba",
   "outputs": [
    {
     "name": "stderr",
     "output_type": "stream",
     "text": [
      "21:43:41 - cmdstanpy - INFO - Chain [1] start processing\n",
      "21:43:42 - cmdstanpy - INFO - Chain [1] done processing\n"
     ]
    }
   ],
   "execution_count": 61
  },
  {
   "metadata": {
    "ExecuteTime": {
     "end_time": "2024-10-12T18:43:43.963588Z",
     "start_time": "2024-10-12T18:43:42.084812Z"
    }
   },
   "cell_type": "code",
   "source": [
    "model_list3 = []\n",
    "for merged_data_for_model in merged_data_list_crude_gold:\n",
    "    df = merged_data_for_model[['index', 'Smoothed_Log_Gold_Price']]\n",
    "    df.columns = ['ds', 'y']\n",
    "    df['smoothed_log_crude_oil_prices'] = merged_data_for_model['smoothed_log_crude_oil_prices']\n",
    "    model = Prophet()\n",
    "    model.add_regressor('smoothed_log_crude_oil_prices')\n",
    "    model.fit(df)\n",
    "    model_list3.append(model)"
   ],
   "id": "147c3da52356c059",
   "outputs": [
    {
     "name": "stderr",
     "output_type": "stream",
     "text": [
      "21:43:42 - cmdstanpy - INFO - Chain [1] start processing\n",
      "21:43:42 - cmdstanpy - INFO - Chain [1] done processing\n",
      "21:43:43 - cmdstanpy - INFO - Chain [1] start processing\n",
      "21:43:43 - cmdstanpy - INFO - Chain [1] done processing\n"
     ]
    }
   ],
   "execution_count": 62
  },
  {
   "cell_type": "code",
   "source": [
    "predictions_federal_gold = []\n",
    "for i, model in enumerate(model_list):    \n",
    "    future = model.make_future_dataframe(periods=290)\n",
    "    last_known_federal_rates = merged_data_list_federal_gold[i]['smoothed_log_federal_rates'].iloc[-1]\n",
    "    future['smoothed_log_federal_rates'] = last_known_federal_rates\n",
    "    forecast = model.predict(future)\n",
    "    forecast['Predicted_Gold_Price'] = np.exp(forecast['yhat'])\n",
    "    forecast['Date'] = forecast['ds'].dt.date\n",
    "    pred = forecast[['Date', 'Predicted_Gold_Price']]\n",
    "    predictions_federal_gold.append(pred)\n",
    "    \n",
    "predictions_federal_gold"
   ],
   "metadata": {
    "collapsed": false,
    "ExecuteTime": {
     "end_time": "2024-10-12T18:43:44.226908Z",
     "start_time": "2024-10-12T18:43:43.980473Z"
    }
   },
   "id": "e3221cb79a1c272d",
   "outputs": [
    {
     "data": {
      "text/plain": [
       "[            Date  Predicted_Gold_Price\n",
       " 0     2020-01-01            909.467211\n",
       " 1     2020-01-02            911.063281\n",
       " 2     2020-01-03            912.904565\n",
       " 3     2020-01-04            914.553891\n",
       " 4     2020-01-05            916.278578\n",
       " ...          ...                   ...\n",
       " 1745  2024-10-11           4671.605583\n",
       " 1746  2024-10-12           4687.369533\n",
       " 1747  2024-10-13           4704.727880\n",
       " 1748  2024-10-14           4722.549692\n",
       " 1749  2024-10-15           4741.271190\n",
       " \n",
       " [1750 rows x 2 columns]]"
      ]
     },
     "execution_count": 63,
     "metadata": {},
     "output_type": "execute_result"
    }
   ],
   "execution_count": 63
  },
  {
   "metadata": {
    "ExecuteTime": {
     "end_time": "2024-10-12T18:43:44.449327Z",
     "start_time": "2024-10-12T18:43:44.238583Z"
    }
   },
   "cell_type": "code",
   "source": [
    "predictions_house_gold = []\n",
    "for i, model in enumerate(model_list2):\n",
    "    future = model.make_future_dataframe(periods=290)\n",
    "    last_known_house_index = merged_data_list_house_gold[i]['smoothed_log_housing_index'].iloc[-1]\n",
    "    future['smoothed_log_housing_index'] = last_known_house_index\n",
    "    forecast = model.predict(future)\n",
    "    forecast['Predicted_Gold_Price'] = np.exp(forecast['yhat'])\n",
    "    forecast['Date'] = forecast['ds'].dt.date\n",
    "    pred = forecast[['Date', 'Predicted_Gold_Price']]\n",
    "    predictions_house_gold.append(pred)\n",
    "\n",
    "predictions_house_gold"
   ],
   "id": "f2ce4cf85ee0f0c9",
   "outputs": [
    {
     "data": {
      "text/plain": [
       "[            Date  Predicted_Gold_Price\n",
       " 0     2020-01-01            862.948878\n",
       " 1     2020-01-02            864.982412\n",
       " 2     2020-01-03            867.188576\n",
       " 3     2020-01-04            869.207484\n",
       " 4     2020-01-05            871.370207\n",
       " ...          ...                   ...\n",
       " 1745  2024-10-11           4858.850898\n",
       " 1746  2024-10-12           4874.318852\n",
       " 1747  2024-10-13           4891.659918\n",
       " 1748  2024-10-14           4908.803691\n",
       " 1749  2024-10-15           4926.675379\n",
       " \n",
       " [1750 rows x 2 columns]]"
      ]
     },
     "execution_count": 64,
     "metadata": {},
     "output_type": "execute_result"
    }
   ],
   "execution_count": 64
  },
  {
   "metadata": {
    "ExecuteTime": {
     "end_time": "2024-10-12T18:43:44.841997Z",
     "start_time": "2024-10-12T18:43:44.465543Z"
    }
   },
   "cell_type": "code",
   "source": [
    "predictions_crude_gold = []\n",
    "for i, model in enumerate(model_list3):\n",
    "    future = model.make_future_dataframe(periods=290)\n",
    "    last_known_crude_oil = merged_data_list_crude_gold[i]['smoothed_log_crude_oil_prices'].iloc[-1]\n",
    "    future['smoothed_log_crude_oil_prices'] = last_known_crude_oil\n",
    "    forecast = model.predict(future)\n",
    "    forecast['Predicted_Gold_Price'] = np.exp(forecast['yhat'])\n",
    "    forecast['Date'] = forecast['ds'].dt.date\n",
    "    pred = forecast[['Date', 'Predicted_Gold_Price']]\n",
    "    predictions_crude_gold.append(pred)\n",
    "\n",
    "predictions_crude_gold"
   ],
   "id": "c9923e87e28bd86d",
   "outputs": [
    {
     "data": {
      "text/plain": [
       "[            Date  Predicted_Gold_Price\n",
       " 0     2020-01-01            762.542139\n",
       " 1     2020-01-02            764.151823\n",
       " 2     2020-01-03            765.924406\n",
       " 3     2020-01-04            767.531235\n",
       " 4     2020-01-05            769.231585\n",
       " ...          ...                   ...\n",
       " 1745  2024-10-11           5056.261613\n",
       " 1746  2024-10-12           5072.757213\n",
       " 1747  2024-10-13           5090.842515\n",
       " 1748  2024-10-14           5108.607893\n",
       " 1749  2024-10-15           5127.320825\n",
       " \n",
       " [1750 rows x 2 columns],\n",
       "             Date  Predicted_Gold_Price\n",
       " 0     2020-01-01            762.992447\n",
       " 1     2020-01-02            764.597535\n",
       " 2     2020-01-03            766.367914\n",
       " 3     2020-01-04            767.974776\n",
       " 4     2020-01-05            769.677618\n",
       " ...          ...                   ...\n",
       " 1745  2024-10-11           5047.437233\n",
       " 1746  2024-10-12           5063.748635\n",
       " 1747  2024-10-13           5081.612320\n",
       " 1748  2024-10-14           5099.171145\n",
       " 1749  2024-10-15           5117.670722\n",
       " \n",
       " [1750 rows x 2 columns]]"
      ]
     },
     "execution_count": 65,
     "metadata": {},
     "output_type": "execute_result"
    }
   ],
   "execution_count": 65
  },
  {
   "cell_type": "code",
   "source": [
    "gold_prices_target['Date'] = pd.to_datetime(gold_prices_target['date'])\n",
    "gold_prices_target['Date'] = gold_prices_target['Date'].dt.date\n",
    "gold_prices_target.drop(columns=['date'], inplace=True)\n",
    "gold_prices_target.set_index('Date' , inplace=True)"
   ],
   "metadata": {
    "collapsed": false,
    "ExecuteTime": {
     "end_time": "2024-10-12T18:43:44.888008Z",
     "start_time": "2024-10-12T18:43:44.865047Z"
    }
   },
   "id": "c379f0c9e510b1f7",
   "outputs": [],
   "execution_count": 66
  },
  {
   "cell_type": "code",
   "source": [
    "crude_oil_prices.head()"
   ],
   "metadata": {
    "collapsed": false,
    "ExecuteTime": {
     "end_time": "2024-10-12T18:43:44.920969Z",
     "start_time": "2024-10-12T18:43:44.900379Z"
    }
   },
   "id": "66153e2d38dae9aa",
   "outputs": [
    {
     "data": {
      "text/plain": [
       "         Date  WTI Oil Price FOB (Dollars per Barrel)  \\\n",
       "0  2020-01-01                                   61.17   \n",
       "1  2020-01-02                                   61.17   \n",
       "2  2020-01-03                                   63.00   \n",
       "3  2020-01-04                                   63.00   \n",
       "4  2020-01-05                                   63.00   \n",
       "\n",
       "   Europe Brent Crude Oil (Dollars per Barrel)  \n",
       "0                                        67.05  \n",
       "1                                        67.05  \n",
       "2                                        69.08  \n",
       "3                                        69.08  \n",
       "4                                        69.08  "
      ],
      "text/html": [
       "<div>\n",
       "<style scoped>\n",
       "    .dataframe tbody tr th:only-of-type {\n",
       "        vertical-align: middle;\n",
       "    }\n",
       "\n",
       "    .dataframe tbody tr th {\n",
       "        vertical-align: top;\n",
       "    }\n",
       "\n",
       "    .dataframe thead th {\n",
       "        text-align: right;\n",
       "    }\n",
       "</style>\n",
       "<table border=\"1\" class=\"dataframe\">\n",
       "  <thead>\n",
       "    <tr style=\"text-align: right;\">\n",
       "      <th></th>\n",
       "      <th>Date</th>\n",
       "      <th>WTI Oil Price FOB (Dollars per Barrel)</th>\n",
       "      <th>Europe Brent Crude Oil (Dollars per Barrel)</th>\n",
       "    </tr>\n",
       "  </thead>\n",
       "  <tbody>\n",
       "    <tr>\n",
       "      <th>0</th>\n",
       "      <td>2020-01-01</td>\n",
       "      <td>61.17</td>\n",
       "      <td>67.05</td>\n",
       "    </tr>\n",
       "    <tr>\n",
       "      <th>1</th>\n",
       "      <td>2020-01-02</td>\n",
       "      <td>61.17</td>\n",
       "      <td>67.05</td>\n",
       "    </tr>\n",
       "    <tr>\n",
       "      <th>2</th>\n",
       "      <td>2020-01-03</td>\n",
       "      <td>63.00</td>\n",
       "      <td>69.08</td>\n",
       "    </tr>\n",
       "    <tr>\n",
       "      <th>3</th>\n",
       "      <td>2020-01-04</td>\n",
       "      <td>63.00</td>\n",
       "      <td>69.08</td>\n",
       "    </tr>\n",
       "    <tr>\n",
       "      <th>4</th>\n",
       "      <td>2020-01-05</td>\n",
       "      <td>63.00</td>\n",
       "      <td>69.08</td>\n",
       "    </tr>\n",
       "  </tbody>\n",
       "</table>\n",
       "</div>"
      ]
     },
     "execution_count": 67,
     "metadata": {},
     "output_type": "execute_result"
    }
   ],
   "execution_count": 67
  },
  {
   "cell_type": "code",
   "source": [
    "crude_oil_prices['Date'] = pd.to_datetime(crude_oil_prices['Date'])\n",
    "crude_oil_prices['Date'] = crude_oil_prices['Date'].dt.date\n",
    "crude_oil_prices.set_index('Date' , inplace=True)"
   ],
   "metadata": {
    "collapsed": false,
    "ExecuteTime": {
     "end_time": "2024-10-12T18:43:44.979870Z",
     "start_time": "2024-10-12T18:43:44.959879Z"
    }
   },
   "id": "c9c1b8daf43a6dc5",
   "outputs": [],
   "execution_count": 68
  },
  {
   "cell_type": "code",
   "source": [
    "features_df = pd.DataFrame(crude_oil_prices['Europe Brent Crude Oil (Dollars per Barrel)'].pct_change() * 100).shift(-1)\n",
    "X = features_df[['Europe Brent Crude Oil (Dollars per Barrel)']]\n",
    "X"
   ],
   "metadata": {
    "collapsed": false,
    "ExecuteTime": {
     "end_time": "2024-10-12T18:43:45.041048Z",
     "start_time": "2024-10-12T18:43:45.014424Z"
    }
   },
   "id": "3a239ce1bdffaecc",
   "outputs": [
    {
     "data": {
      "text/plain": [
       "            Europe Brent Crude Oil (Dollars per Barrel)\n",
       "Date                                                   \n",
       "2020-01-01                                     0.000000\n",
       "2020-01-02                                     3.027591\n",
       "2020-01-03                                     0.000000\n",
       "2020-01-04                                     0.000000\n",
       "2020-01-05                                     1.693688\n",
       "...                                                 ...\n",
       "2023-12-26                                     0.922348\n",
       "2023-12-27                                    -2.383599\n",
       "2023-12-28                                    -1.707996\n",
       "2023-12-29                                     0.000000\n",
       "2023-12-30                                          NaN\n",
       "\n",
       "[1460 rows x 1 columns]"
      ],
      "text/html": [
       "<div>\n",
       "<style scoped>\n",
       "    .dataframe tbody tr th:only-of-type {\n",
       "        vertical-align: middle;\n",
       "    }\n",
       "\n",
       "    .dataframe tbody tr th {\n",
       "        vertical-align: top;\n",
       "    }\n",
       "\n",
       "    .dataframe thead th {\n",
       "        text-align: right;\n",
       "    }\n",
       "</style>\n",
       "<table border=\"1\" class=\"dataframe\">\n",
       "  <thead>\n",
       "    <tr style=\"text-align: right;\">\n",
       "      <th></th>\n",
       "      <th>Europe Brent Crude Oil (Dollars per Barrel)</th>\n",
       "    </tr>\n",
       "    <tr>\n",
       "      <th>Date</th>\n",
       "      <th></th>\n",
       "    </tr>\n",
       "  </thead>\n",
       "  <tbody>\n",
       "    <tr>\n",
       "      <th>2020-01-01</th>\n",
       "      <td>0.000000</td>\n",
       "    </tr>\n",
       "    <tr>\n",
       "      <th>2020-01-02</th>\n",
       "      <td>3.027591</td>\n",
       "    </tr>\n",
       "    <tr>\n",
       "      <th>2020-01-03</th>\n",
       "      <td>0.000000</td>\n",
       "    </tr>\n",
       "    <tr>\n",
       "      <th>2020-01-04</th>\n",
       "      <td>0.000000</td>\n",
       "    </tr>\n",
       "    <tr>\n",
       "      <th>2020-01-05</th>\n",
       "      <td>1.693688</td>\n",
       "    </tr>\n",
       "    <tr>\n",
       "      <th>...</th>\n",
       "      <td>...</td>\n",
       "    </tr>\n",
       "    <tr>\n",
       "      <th>2023-12-26</th>\n",
       "      <td>0.922348</td>\n",
       "    </tr>\n",
       "    <tr>\n",
       "      <th>2023-12-27</th>\n",
       "      <td>-2.383599</td>\n",
       "    </tr>\n",
       "    <tr>\n",
       "      <th>2023-12-28</th>\n",
       "      <td>-1.707996</td>\n",
       "    </tr>\n",
       "    <tr>\n",
       "      <th>2023-12-29</th>\n",
       "      <td>0.000000</td>\n",
       "    </tr>\n",
       "    <tr>\n",
       "      <th>2023-12-30</th>\n",
       "      <td>NaN</td>\n",
       "    </tr>\n",
       "  </tbody>\n",
       "</table>\n",
       "<p>1460 rows × 1 columns</p>\n",
       "</div>"
      ]
     },
     "execution_count": 69,
     "metadata": {},
     "output_type": "execute_result"
    }
   ],
   "execution_count": 69
  },
  {
   "cell_type": "markdown",
   "source": [
    "# EDA"
   ],
   "metadata": {
    "collapsed": false
   },
   "id": "a7765e001292ed33"
  },
  {
   "cell_type": "code",
   "source": [
    "gold_prices_target.describe()"
   ],
   "metadata": {
    "collapsed": false,
    "ExecuteTime": {
     "end_time": "2024-10-12T18:43:45.160113Z",
     "start_time": "2024-10-12T18:43:45.135549Z"
    }
   },
   "id": "a06492297c4759b4",
   "outputs": [
    {
     "data": {
      "text/plain": [
       "        pct_change\n",
       "count  1461.000000\n",
       "mean      0.113309\n",
       "std       1.180442\n",
       "min      -6.092843\n",
       "25%      -0.186986\n",
       "50%       0.000000\n",
       "75%       0.373715\n",
       "max      14.916585"
      ],
      "text/html": [
       "<div>\n",
       "<style scoped>\n",
       "    .dataframe tbody tr th:only-of-type {\n",
       "        vertical-align: middle;\n",
       "    }\n",
       "\n",
       "    .dataframe tbody tr th {\n",
       "        vertical-align: top;\n",
       "    }\n",
       "\n",
       "    .dataframe thead th {\n",
       "        text-align: right;\n",
       "    }\n",
       "</style>\n",
       "<table border=\"1\" class=\"dataframe\">\n",
       "  <thead>\n",
       "    <tr style=\"text-align: right;\">\n",
       "      <th></th>\n",
       "      <th>pct_change</th>\n",
       "    </tr>\n",
       "  </thead>\n",
       "  <tbody>\n",
       "    <tr>\n",
       "      <th>count</th>\n",
       "      <td>1461.000000</td>\n",
       "    </tr>\n",
       "    <tr>\n",
       "      <th>mean</th>\n",
       "      <td>0.113309</td>\n",
       "    </tr>\n",
       "    <tr>\n",
       "      <th>std</th>\n",
       "      <td>1.180442</td>\n",
       "    </tr>\n",
       "    <tr>\n",
       "      <th>min</th>\n",
       "      <td>-6.092843</td>\n",
       "    </tr>\n",
       "    <tr>\n",
       "      <th>25%</th>\n",
       "      <td>-0.186986</td>\n",
       "    </tr>\n",
       "    <tr>\n",
       "      <th>50%</th>\n",
       "      <td>0.000000</td>\n",
       "    </tr>\n",
       "    <tr>\n",
       "      <th>75%</th>\n",
       "      <td>0.373715</td>\n",
       "    </tr>\n",
       "    <tr>\n",
       "      <th>max</th>\n",
       "      <td>14.916585</td>\n",
       "    </tr>\n",
       "  </tbody>\n",
       "</table>\n",
       "</div>"
      ]
     },
     "execution_count": 70,
     "metadata": {},
     "output_type": "execute_result"
    }
   ],
   "execution_count": 70
  },
  {
   "cell_type": "code",
   "source": [
    "crude_oil_prices.describe()"
   ],
   "metadata": {
    "collapsed": false,
    "ExecuteTime": {
     "end_time": "2024-10-12T18:43:45.247788Z",
     "start_time": "2024-10-12T18:43:45.221833Z"
    }
   },
   "id": "fb56196d21d0a408",
   "outputs": [
    {
     "data": {
      "text/plain": [
       "       WTI Oil Price FOB (Dollars per Barrel)  \\\n",
       "count                             1460.000000   \n",
       "mean                                69.972726   \n",
       "std                                 22.465432   \n",
       "min                                -36.980000   \n",
       "25%                                 53.325000   \n",
       "50%                                 72.955000   \n",
       "75%                                 83.175000   \n",
       "max                                123.640000   \n",
       "\n",
       "       Europe Brent Crude Oil (Dollars per Barrel)  \n",
       "count                                  1460.000000  \n",
       "mean                                     73.972760  \n",
       "std                                      23.870567  \n",
       "min                                       9.120000  \n",
       "25%                                      58.362500  \n",
       "50%                                      76.450000  \n",
       "75%                                      87.877500  \n",
       "max                                     133.180000  "
      ],
      "text/html": [
       "<div>\n",
       "<style scoped>\n",
       "    .dataframe tbody tr th:only-of-type {\n",
       "        vertical-align: middle;\n",
       "    }\n",
       "\n",
       "    .dataframe tbody tr th {\n",
       "        vertical-align: top;\n",
       "    }\n",
       "\n",
       "    .dataframe thead th {\n",
       "        text-align: right;\n",
       "    }\n",
       "</style>\n",
       "<table border=\"1\" class=\"dataframe\">\n",
       "  <thead>\n",
       "    <tr style=\"text-align: right;\">\n",
       "      <th></th>\n",
       "      <th>WTI Oil Price FOB (Dollars per Barrel)</th>\n",
       "      <th>Europe Brent Crude Oil (Dollars per Barrel)</th>\n",
       "    </tr>\n",
       "  </thead>\n",
       "  <tbody>\n",
       "    <tr>\n",
       "      <th>count</th>\n",
       "      <td>1460.000000</td>\n",
       "      <td>1460.000000</td>\n",
       "    </tr>\n",
       "    <tr>\n",
       "      <th>mean</th>\n",
       "      <td>69.972726</td>\n",
       "      <td>73.972760</td>\n",
       "    </tr>\n",
       "    <tr>\n",
       "      <th>std</th>\n",
       "      <td>22.465432</td>\n",
       "      <td>23.870567</td>\n",
       "    </tr>\n",
       "    <tr>\n",
       "      <th>min</th>\n",
       "      <td>-36.980000</td>\n",
       "      <td>9.120000</td>\n",
       "    </tr>\n",
       "    <tr>\n",
       "      <th>25%</th>\n",
       "      <td>53.325000</td>\n",
       "      <td>58.362500</td>\n",
       "    </tr>\n",
       "    <tr>\n",
       "      <th>50%</th>\n",
       "      <td>72.955000</td>\n",
       "      <td>76.450000</td>\n",
       "    </tr>\n",
       "    <tr>\n",
       "      <th>75%</th>\n",
       "      <td>83.175000</td>\n",
       "      <td>87.877500</td>\n",
       "    </tr>\n",
       "    <tr>\n",
       "      <th>max</th>\n",
       "      <td>123.640000</td>\n",
       "      <td>133.180000</td>\n",
       "    </tr>\n",
       "  </tbody>\n",
       "</table>\n",
       "</div>"
      ]
     },
     "execution_count": 71,
     "metadata": {},
     "output_type": "execute_result"
    }
   ],
   "execution_count": 71
  },
  {
   "cell_type": "markdown",
   "source": [
    "# Feature Selection"
   ],
   "metadata": {
    "collapsed": false
   },
   "id": "8c00974429646b4d"
  },
  {
   "cell_type": "code",
   "source": [
    "features_df = pd.merge(gold_prices_target, (crude_oil_prices['Europe Brent Crude Oil (Dollars per Barrel)'].pct_change() * 100).shift(-1), on='Date', how='left')\n",
    "features_df.fillna(0, inplace=True)\n",
    "features_df"
   ],
   "metadata": {
    "collapsed": false,
    "ExecuteTime": {
     "end_time": "2024-10-12T18:43:45.403180Z",
     "start_time": "2024-10-12T18:43:45.377030Z"
    }
   },
   "id": "e067780f2c60840a",
   "outputs": [
    {
     "data": {
      "text/plain": [
       "            pct_change  Europe Brent Crude Oil (Dollars per Barrel)\n",
       "Date                                                               \n",
       "2020-01-01    0.129032                                     0.000000\n",
       "2020-01-02    1.288660                                     3.027591\n",
       "2020-01-03    0.636132                                     0.000000\n",
       "2020-01-04    0.126422                                     0.000000\n",
       "2020-01-05    1.262626                                     1.693688\n",
       "...                ...                                          ...\n",
       "2023-12-27   -4.334869                                    -2.383599\n",
       "2023-12-28    1.302747                                    -1.707996\n",
       "2023-12-29    1.593514                                     0.000000\n",
       "2023-12-30    0.000000                                     0.000000\n",
       "2023-12-31    0.935608                                     0.000000\n",
       "\n",
       "[1461 rows x 2 columns]"
      ],
      "text/html": [
       "<div>\n",
       "<style scoped>\n",
       "    .dataframe tbody tr th:only-of-type {\n",
       "        vertical-align: middle;\n",
       "    }\n",
       "\n",
       "    .dataframe tbody tr th {\n",
       "        vertical-align: top;\n",
       "    }\n",
       "\n",
       "    .dataframe thead th {\n",
       "        text-align: right;\n",
       "    }\n",
       "</style>\n",
       "<table border=\"1\" class=\"dataframe\">\n",
       "  <thead>\n",
       "    <tr style=\"text-align: right;\">\n",
       "      <th></th>\n",
       "      <th>pct_change</th>\n",
       "      <th>Europe Brent Crude Oil (Dollars per Barrel)</th>\n",
       "    </tr>\n",
       "    <tr>\n",
       "      <th>Date</th>\n",
       "      <th></th>\n",
       "      <th></th>\n",
       "    </tr>\n",
       "  </thead>\n",
       "  <tbody>\n",
       "    <tr>\n",
       "      <th>2020-01-01</th>\n",
       "      <td>0.129032</td>\n",
       "      <td>0.000000</td>\n",
       "    </tr>\n",
       "    <tr>\n",
       "      <th>2020-01-02</th>\n",
       "      <td>1.288660</td>\n",
       "      <td>3.027591</td>\n",
       "    </tr>\n",
       "    <tr>\n",
       "      <th>2020-01-03</th>\n",
       "      <td>0.636132</td>\n",
       "      <td>0.000000</td>\n",
       "    </tr>\n",
       "    <tr>\n",
       "      <th>2020-01-04</th>\n",
       "      <td>0.126422</td>\n",
       "      <td>0.000000</td>\n",
       "    </tr>\n",
       "    <tr>\n",
       "      <th>2020-01-05</th>\n",
       "      <td>1.262626</td>\n",
       "      <td>1.693688</td>\n",
       "    </tr>\n",
       "    <tr>\n",
       "      <th>...</th>\n",
       "      <td>...</td>\n",
       "      <td>...</td>\n",
       "    </tr>\n",
       "    <tr>\n",
       "      <th>2023-12-27</th>\n",
       "      <td>-4.334869</td>\n",
       "      <td>-2.383599</td>\n",
       "    </tr>\n",
       "    <tr>\n",
       "      <th>2023-12-28</th>\n",
       "      <td>1.302747</td>\n",
       "      <td>-1.707996</td>\n",
       "    </tr>\n",
       "    <tr>\n",
       "      <th>2023-12-29</th>\n",
       "      <td>1.593514</td>\n",
       "      <td>0.000000</td>\n",
       "    </tr>\n",
       "    <tr>\n",
       "      <th>2023-12-30</th>\n",
       "      <td>0.000000</td>\n",
       "      <td>0.000000</td>\n",
       "    </tr>\n",
       "    <tr>\n",
       "      <th>2023-12-31</th>\n",
       "      <td>0.935608</td>\n",
       "      <td>0.000000</td>\n",
       "    </tr>\n",
       "  </tbody>\n",
       "</table>\n",
       "<p>1461 rows × 2 columns</p>\n",
       "</div>"
      ]
     },
     "execution_count": 72,
     "metadata": {},
     "output_type": "execute_result"
    }
   ],
   "execution_count": 72
  },
  {
   "cell_type": "markdown",
   "source": [
    "# Modelling"
   ],
   "metadata": {
    "collapsed": false
   },
   "id": "ae1cb73f9848c767"
  },
  {
   "cell_type": "code",
   "source": [
    "X = features_df[['Europe Brent Crude Oil (Dollars per Barrel)']]  \n",
    "y = features_df['pct_change']\n",
    "X_train, X_test, y_train, y_test = train_test_split(X, y, test_size=0.2, shuffle=False)"
   ],
   "metadata": {
    "collapsed": false,
    "ExecuteTime": {
     "end_time": "2024-10-12T18:43:45.513450Z",
     "start_time": "2024-10-12T18:43:45.487848Z"
    }
   },
   "id": "ca9bc8da074fdd2",
   "outputs": [],
   "execution_count": 73
  },
  {
   "cell_type": "code",
   "source": [
    "model = LinearRegression()\n",
    "model.fit(X_train, y_train)\n",
    "y_pred = model.predict(X_test)"
   ],
   "metadata": {
    "collapsed": false,
    "ExecuteTime": {
     "end_time": "2024-10-12T18:43:45.549931Z",
     "start_time": "2024-10-12T18:43:45.526520Z"
    }
   },
   "id": "e64c5e22f2933a5b",
   "outputs": [],
   "execution_count": 74
  },
  {
   "cell_type": "markdown",
   "source": [
    "## Validation"
   ],
   "metadata": {
    "collapsed": false
   },
   "id": "6d8c289596ad115d"
  },
  {
   "cell_type": "code",
   "source": [
    "start_time = time.time()\n",
    "y_pred = model.predict(X_test)\n",
    "end_time = time.time()\n",
    "inference_time = end_time - start_time\n",
    "\n",
    "rmse = np.sqrt(mean_squared_error(y_test, y_pred))\n",
    "\n",
    "mda = np.mean(np.sign(np.diff(y_test)) == np.sign(np.diff(y_pred)))\n",
    "\n",
    "y_test_buckets = pd.qcut(y_test, 4, labels=False) \n",
    "y_pred_buckets = pd.qcut(y_pred, 4, labels=False)\n",
    "\n",
    "f1 = f1_score(y_test_buckets, y_pred_buckets, average='weighted')\n",
    "\n",
    "print(f'Root Mean Squared Error: {rmse}')\n",
    "print(f'Mean Directional Accuracy: {mda}')\n",
    "print(f'Bucketized F1 Score: {f1}')\n",
    "print(f'Inference Time (seconds): {inference_time}')\n"
   ],
   "metadata": {
    "collapsed": false,
    "ExecuteTime": {
     "end_time": "2024-10-12T18:43:45.660250Z",
     "start_time": "2024-10-12T18:43:45.634957Z"
    }
   },
   "id": "490c2e821f39ea0e",
   "outputs": [
    {
     "name": "stdout",
     "output_type": "stream",
     "text": [
      "Root Mean Squared Error: 1.3640185276741963\n",
      "Mean Directional Accuracy: 0.4143835616438356\n",
      "Bucketized F1 Score: 0.3685853949374926\n",
      "Inference Time (seconds): 0.0007290840148925781\n"
     ]
    }
   ],
   "execution_count": 75
  },
  {
   "cell_type": "markdown",
   "source": [
    "## Visualize the results"
   ],
   "metadata": {
    "collapsed": false
   },
   "id": "527decad24ec0806"
  },
  {
   "cell_type": "code",
   "source": [
    "plt.figure(figsize=(10, 6))\n",
    "plt.plot(features_df.index, y, label='Actual Target Variable', color='blue')\n",
    "plt.plot(X_test.index, y_pred, label='Predicted Target Variable', color='red')\n",
    "plt.title('Linear Regression Model')\n",
    "plt.xlabel('Date')\n",
    "plt.ylabel('Target Variable')\n",
    "plt.legend()\n",
    "plt.show()"
   ],
   "metadata": {
    "collapsed": false,
    "ExecuteTime": {
     "end_time": "2024-10-12T18:43:45.846788Z",
     "start_time": "2024-10-12T18:43:45.690253Z"
    }
   },
   "id": "88143881d6c6b6f3",
   "outputs": [
    {
     "data": {
      "text/plain": [
       "<Figure size 1000x600 with 1 Axes>"
      ],
      "image/png": "[encoded data removed]"
     },
     "metadata": {},
     "output_type": "display_data"
    }
   ],
   "execution_count": 76
  },
  {
   "cell_type": "markdown",
   "source": [
    "# Saving Model"
   ],
   "metadata": {
    "collapsed": false
   },
   "id": "775680d53105d0c6"
  },
  {
   "cell_type": "code",
   "source": [
    "with open('../Pickles/linear_regression_model.pkl', 'wb') as file:\n",
    "    pickle.dump(model, file)"
   ],
   "metadata": {
    "collapsed": false,
    "ExecuteTime": {
     "end_time": "2024-10-12T18:43:46.017888Z",
     "start_time": "2024-10-12T18:43:45.999004Z"
    }
   },
   "id": "d4dbc467c370bef5",
   "outputs": [],
   "execution_count": 77
  },
  {
   "cell_type": "markdown",
   "source": [
    "# Loading Model"
   ],
   "metadata": {
    "collapsed": false
   },
   "id": "616d0c4d0678e4fc"
  },
  {
   "cell_type": "code",
   "source": [
    "with open('../Pickles/linear_regression_model.pkl', 'rb') as file:\n",
    "    loaded_model = pickle.load(file)\n",
    "\n",
    "y_pred = loaded_model.predict(X_test)\n",
    "output_df = pd.DataFrame({\n",
    "    'date': X_test.index,\n",
    "    'prediction': y_pred.flatten()\n",
    "})\n",
    "output_df"
   ],
   "metadata": {
    "collapsed": false,
    "ExecuteTime": {
     "end_time": "2024-10-12T18:43:46.052574Z",
     "start_time": "2024-10-12T18:43:46.029073Z"
    }
   },
   "id": "90d1d8505c2e41c",
   "outputs": [
    {
     "data": {
      "text/plain": [
       "           date  prediction\n",
       "0    2023-03-14    0.022360\n",
       "1    2023-03-15    0.058431\n",
       "2    2023-03-16    0.030310\n",
       "3    2023-03-17    0.093593\n",
       "4    2023-03-18    0.093593\n",
       "..          ...         ...\n",
       "288  2023-12-27    0.040820\n",
       "289  2023-12-28    0.055778\n",
       "290  2023-12-29    0.093593\n",
       "291  2023-12-30    0.093593\n",
       "292  2023-12-31    0.093593\n",
       "\n",
       "[293 rows x 2 columns]"
      ],
      "text/html": [
       "<div>\n",
       "<style scoped>\n",
       "    .dataframe tbody tr th:only-of-type {\n",
       "        vertical-align: middle;\n",
       "    }\n",
       "\n",
       "    .dataframe tbody tr th {\n",
       "        vertical-align: top;\n",
       "    }\n",
       "\n",
       "    .dataframe thead th {\n",
       "        text-align: right;\n",
       "    }\n",
       "</style>\n",
       "<table border=\"1\" class=\"dataframe\">\n",
       "  <thead>\n",
       "    <tr style=\"text-align: right;\">\n",
       "      <th></th>\n",
       "      <th>date</th>\n",
       "      <th>prediction</th>\n",
       "    </tr>\n",
       "  </thead>\n",
       "  <tbody>\n",
       "    <tr>\n",
       "      <th>0</th>\n",
       "      <td>2023-03-14</td>\n",
       "      <td>0.022360</td>\n",
       "    </tr>\n",
       "    <tr>\n",
       "      <th>1</th>\n",
       "      <td>2023-03-15</td>\n",
       "      <td>0.058431</td>\n",
       "    </tr>\n",
       "    <tr>\n",
       "      <th>2</th>\n",
       "      <td>2023-03-16</td>\n",
       "      <td>0.030310</td>\n",
       "    </tr>\n",
       "    <tr>\n",
       "      <th>3</th>\n",
       "      <td>2023-03-17</td>\n",
       "      <td>0.093593</td>\n",
       "    </tr>\n",
       "    <tr>\n",
       "      <th>4</th>\n",
       "      <td>2023-03-18</td>\n",
       "      <td>0.093593</td>\n",
       "    </tr>\n",
       "    <tr>\n",
       "      <th>...</th>\n",
       "      <td>...</td>\n",
       "      <td>...</td>\n",
       "    </tr>\n",
       "    <tr>\n",
       "      <th>288</th>\n",
       "      <td>2023-12-27</td>\n",
       "      <td>0.040820</td>\n",
       "    </tr>\n",
       "    <tr>\n",
       "      <th>289</th>\n",
       "      <td>2023-12-28</td>\n",
       "      <td>0.055778</td>\n",
       "    </tr>\n",
       "    <tr>\n",
       "      <th>290</th>\n",
       "      <td>2023-12-29</td>\n",
       "      <td>0.093593</td>\n",
       "    </tr>\n",
       "    <tr>\n",
       "      <th>291</th>\n",
       "      <td>2023-12-30</td>\n",
       "      <td>0.093593</td>\n",
       "    </tr>\n",
       "    <tr>\n",
       "      <th>292</th>\n",
       "      <td>2023-12-31</td>\n",
       "      <td>0.093593</td>\n",
       "    </tr>\n",
       "  </tbody>\n",
       "</table>\n",
       "<p>293 rows × 2 columns</p>\n",
       "</div>"
      ]
     },
     "execution_count": 78,
     "metadata": {},
     "output_type": "execute_result"
    }
   ],
   "execution_count": 78
  }
 ],
 "metadata": {
  "kernelspec": {
   "display_name": "Python 3",
   "language": "python",
   "name": "python3"
  },
  "language_info": {
   "codemirror_mode": {
    "name": "ipython",
    "version": 2
   },
   "file_extension": ".py",
   "mimetype": "text/x-python",
   "name": "python",
   "nbconvert_exporter": "python",
   "pygments_lexer": "ipython2",
   "version": "2.7.6"
  }
 },
 "nbformat": 4,
 "nbformat_minor": 5
}
