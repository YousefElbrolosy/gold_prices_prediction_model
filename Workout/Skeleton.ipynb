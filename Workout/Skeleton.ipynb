{
 "cells": [
  {
   "cell_type": "markdown",
   "id": "cb7de77a0ba0aeb8",
   "metadata": {
    "collapsed": false
   },
   "source": [
    "# Importing Libraries"
   ]
  },
  {
   "cell_type": "code",
   "execution_count": 1,
   "id": "initial_id",
   "metadata": {
    "collapsed": true
   },
   "outputs": [],
   "source": [
    "import warnings\n",
    "import numpy as np\n",
    "import pandas as pd\n",
    "import plotly.express as px\n",
    "from sklearn.model_selection import train_test_split\n",
    "from sklearn.linear_model import LinearRegression\n",
    "import matplotlib.pyplot as plt\n",
    "from sklearn.metrics import mean_squared_error, f1_score\n",
    "import time\n",
    "import pickle \n",
    "\n",
    "warnings.simplefilter(action='ignore', category=FutureWarning)\n",
    "\n",
    "%load_ext autoreload\n",
    "%autoreload 2"
   ]
  },
  {
   "cell_type": "markdown",
   "id": "170f3a3b6310c8e8",
   "metadata": {
    "collapsed": false
   },
   "source": [
    "# Reading Files"
   ]
  },
  {
   "cell_type": "code",
   "execution_count": 3,
   "id": "c2cf553fe3751e19",
   "metadata": {
    "collapsed": false
   },
   "outputs": [],
   "source": [
    "crude_oil_prices = pd.read_csv('../InputData/crude_oil_prices.csv')\n",
    "federal_rates = pd.read_csv('../InputData/effective_federal_funds_rate.csv')\n",
    "corridor_rates = pd.read_csv('../InputData/egyptian_corridor_interest_rates.csv')\n",
    "housing_index = pd.read_csv('../InputData/housing_index.csv')\n",
    "inflation_mom = pd.read_csv('../InputData/inflation_month_on_month.csv')\n",
    "inflation_yoy = pd.read_csv('../InputData/inflation_year_on_year.csv')\n",
    "news_data = pd.read_csv('../InputData/news.csv')\n",
    "stock_prices = pd.read_csv('../InputData/stocks_prices_and_volumes.csv')\n",
    "vix_indices = pd.read_csv('../InputData/vix_index.csv')\n",
    "vixeem_indices = pd.read_csv('../InputData/vxeem_index.csv')\n",
    "gold_prices = pd.read_csv('../InputData/intraday_gold.csv')\n",
    "gold_prices_target = pd.read_csv('../InputData/target_gold.csv')"
   ]
  },
  {
   "cell_type": "code",
   "execution_count": 6,
   "id": "4d84ed41",
   "metadata": {},
   "outputs": [
    {
     "name": "stderr",
     "output_type": "stream",
     "text": [
      "[nltk_data] Downloading package vader_lexicon to\n",
      "[nltk_data]     C:\\Users\\omarf\\AppData\\Roaming\\nltk_data...\n",
      "[nltk_data]   Package vader_lexicon is already up-to-date!\n"
     ]
    },
    {
     "data": {
      "text/plain": [
       "True"
      ]
     },
     "execution_count": 6,
     "metadata": {},
     "output_type": "execute_result"
    }
   ],
   "source": [
    "import nltk\n",
    "nltk.download('vader_lexicon')"
   ]
  },
  {
   "cell_type": "code",
   "execution_count": 8,
   "id": "15f96a28",
   "metadata": {},
   "outputs": [
    {
     "name": "stderr",
     "output_type": "stream",
     "text": [
      "C:\\Users\\omarf\\AppData\\Local\\Temp\\ipykernel_19572\\3694712986.py:19: SettingWithCopyWarning: \n",
      "A value is trying to be set on a copy of a slice from a DataFrame.\n",
      "Try using .loc[row_indexer,col_indexer] = value instead\n",
      "\n",
      "See the caveats in the documentation: https://pandas.pydata.org/pandas-docs/stable/user_guide/indexing.html#returning-a-view-versus-a-copy\n",
      "  sentiment_data['date'] = pd.to_datetime(sentiment_data['date'])\n"
     ]
    }
   ],
   "source": [
    "\n",
    "import pandas as pd\n",
    "from nltk.sentiment import SentimentIntensityAnalyzer\n",
    "\n",
    "# Load the CSV file\n",
    "df = pd.read_csv('../InputData/news.csv')\n",
    "\n",
    "# Initialize VADER sentiment intensity analyzer\n",
    "sia = SentimentIntensityAnalyzer()\n",
    "\n",
    "# Function to calculate sentiment using VADER\n",
    "def get_sentiment(text):\n",
    "    return sia.polarity_scores(text)['compound']  # Returns the compound score\n",
    "\n",
    "# Extract sentiment scores along with the date\n",
    "df['sentiment_score'] = df['summary'].apply(get_sentiment)\n",
    "sentiment_data = df[['date', 'sentiment_score']]\n",
    "\n",
    "# Convert date to datetime if needed\n",
    "sentiment_data['date'] = pd.to_datetime(sentiment_data['date'])\n",
    "\n",
    "# Print or save the result\n",
    "sentiment_data.to_csv('sentiment_scores.csv', index=False)\n"
   ]
  },
  {
   "cell_type": "code",
   "execution_count": 4,
   "id": "40e94bae",
   "metadata": {},
   "outputs": [
    {
     "name": "stdout",
     "output_type": "stream",
     "text": [
      "<bound method NDFrame.head of             id source       category                 date  \\\n",
      "0      1281441      d          banks  2020-01-01 00:00:00   \n",
      "1      1281462      d          banks  2020-01-01 00:00:00   \n",
      "2      1281542      d          banks  2020-01-01 00:00:00   \n",
      "3      1281542      d          banks  2020-01-01 00:00:00   \n",
      "4      3579478      e  announcements  2020-01-02 10:50:00   \n",
      "...        ...    ...            ...                  ...   \n",
      "91384  1683079      c          banks  2023-12-29 08:00:00   \n",
      "91385  1683204      c          banks  2023-12-29 08:00:00   \n",
      "91386  1683205      c          banks  2023-12-29 08:00:00   \n",
      "91387  1683206      c          banks  2023-12-29 08:00:00   \n",
      "91388  1683207      c          banks  2023-12-29 08:00:00   \n",
      "\n",
      "                                        translated_title  \\\n",
      "0      disputes over loan guarantees for the copper m...   \n",
      "1      700 million dollars in net foreign assets for ...   \n",
      "2      the reshuffle of the board البنك المركزى.. and...   \n",
      "3      the reshuffle of the board البنك المركزى.. and...   \n",
      "4      the address: مصر الجديدة for housing and const...   \n",
      "...                                                  ...   \n",
      "91384  the dollar price today is friday 29-12-2023 ag...   \n",
      "91385  saudi riyals price on friday 29-12-2023 agains...   \n",
      "91386  currency prices on friday 29-12-2023 against t...   \n",
      "91387  the price of the euro today is friday 29-12-20...   \n",
      "91388  kuwaiti dinar price on friday 29-12-2023 again...   \n",
      "\n",
      "                           tag  \\\n",
      "0             Egyptian_Economy   \n",
      "1             Egyptian_Economy   \n",
      "2             Egyptian_Economy   \n",
      "3      Egyptian_Stock_Exchange   \n",
      "4        Geopolitical_Tensions   \n",
      "...                        ...   \n",
      "91384         Egyptian_Economy   \n",
      "91385         Egyptian_Economy   \n",
      "91386         Egyptian_Economy   \n",
      "91387         Egyptian_Economy   \n",
      "91388         Egyptian_Economy   \n",
      "\n",
      "                                                 summary  \n",
      "0      Investors: banks refuse to accept the guarante...  \n",
      "1      Foreign investment in the egyptian treasury's ...  \n",
      "2      The president of the republic issued a resolut...  \n",
      "3      The president of the republic issued a resolut...  \n",
      "4      The general assembly of the united nations (un...  \n",
      "...                                                  ...  \n",
      "91384  The price of the green currency is 30.93 pound...  \n",
      "91385  The price of the egyptian pound on friday 29-1...  \n",
      "91386  Online platforms of banks operating in the loc...  \n",
      "91387  Online platforms of banks operating in the loc...  \n",
      "91388  Online platforms of banks operating in the loc...  \n",
      "\n",
      "[91389 rows x 7 columns]>\n"
     ]
    }
   ],
   "source": [
    "print(news_data.head)"
   ]
  },
  {
   "cell_type": "code",
   "execution_count": null,
   "id": "7987b73ff1c68863",
   "metadata": {
    "collapsed": false
   },
   "outputs": [],
   "source": [
    "gold_prices_target.head()"
   ]
  },
  {
   "cell_type": "code",
   "execution_count": null,
   "id": "c379f0c9e510b1f7",
   "metadata": {
    "collapsed": false
   },
   "outputs": [],
   "source": [
    "gold_prices_target['Date'] = pd.to_datetime(gold_prices_target['date'])\n",
    "gold_prices_target['Date'] = gold_prices_target['Date'].dt.date\n",
    "gold_prices_target.drop(columns=['date'], inplace=True)\n",
    "gold_prices_target.set_index('Date' , inplace=True)"
   ]
  },
  {
   "cell_type": "code",
   "execution_count": null,
   "id": "66153e2d38dae9aa",
   "metadata": {
    "collapsed": false
   },
   "outputs": [],
   "source": [
    "crude_oil_prices.head()"
   ]
  },
  {
   "cell_type": "code",
   "execution_count": null,
   "id": "c9c1b8daf43a6dc5",
   "metadata": {
    "collapsed": false
   },
   "outputs": [],
   "source": [
    "crude_oil_prices['Date'] = pd.to_datetime(crude_oil_prices['Date'])\n",
    "crude_oil_prices['Date'] = crude_oil_prices['Date'].dt.date\n",
    "crude_oil_prices.set_index('Date' , inplace=True)"
   ]
  },
  {
   "cell_type": "code",
   "execution_count": null,
   "id": "3a239ce1bdffaecc",
   "metadata": {
    "collapsed": false
   },
   "outputs": [],
   "source": [
    "features_df = pd.DataFrame(crude_oil_prices['Europe Brent Crude Oil (Dollars per Barrel)'].pct_change() * 100).shift(-1)\n",
    "X = features_df[['Europe Brent Crude Oil (Dollars per Barrel)']]\n",
    "X"
   ]
  },
  {
   "cell_type": "markdown",
   "id": "a7765e001292ed33",
   "metadata": {
    "collapsed": false
   },
   "source": [
    "# EDA"
   ]
  },
  {
   "cell_type": "code",
   "execution_count": null,
   "id": "a06492297c4759b4",
   "metadata": {
    "collapsed": false
   },
   "outputs": [],
   "source": [
    "gold_prices_target.describe()"
   ]
  },
  {
   "cell_type": "code",
   "execution_count": null,
   "id": "61cdd03f9b9da29b",
   "metadata": {
    "collapsed": false
   },
   "outputs": [],
   "source": [
    "px.line(gold_prices_target)"
   ]
  },
  {
   "cell_type": "code",
   "execution_count": null,
   "id": "fb56196d21d0a408",
   "metadata": {
    "collapsed": false
   },
   "outputs": [],
   "source": [
    "crude_oil_prices.describe()"
   ]
  },
  {
   "cell_type": "code",
   "execution_count": null,
   "id": "1069781cff4bf00c",
   "metadata": {
    "collapsed": false
   },
   "outputs": [],
   "source": [
    "px.line(crude_oil_prices)"
   ]
  },
  {
   "cell_type": "markdown",
   "id": "8c00974429646b4d",
   "metadata": {
    "collapsed": false
   },
   "source": [
    "# Feature Selection"
   ]
  },
  {
   "cell_type": "code",
   "execution_count": null,
   "id": "e067780f2c60840a",
   "metadata": {
    "collapsed": false
   },
   "outputs": [],
   "source": [
    "features_df = pd.merge(gold_prices_target, (crude_oil_prices['Europe Brent Crude Oil (Dollars per Barrel)'].pct_change() * 100).shift(-1), on='Date', how='left')\n",
    "features_df.fillna(0, inplace=True)\n",
    "features_df"
   ]
  },
  {
   "cell_type": "code",
   "execution_count": null,
   "id": "c53db922be8c0fe0",
   "metadata": {
    "collapsed": false
   },
   "outputs": [],
   "source": [
    "px.line(features_df)"
   ]
  },
  {
   "cell_type": "markdown",
   "id": "ae1cb73f9848c767",
   "metadata": {
    "collapsed": false
   },
   "source": [
    "# Modelling"
   ]
  },
  {
   "cell_type": "code",
   "execution_count": null,
   "id": "ca9bc8da074fdd2",
   "metadata": {
    "collapsed": false
   },
   "outputs": [],
   "source": [
    "X = features_df[['Europe Brent Crude Oil (Dollars per Barrel)']]  \n",
    "y = features_df['pct_change']\n",
    "X_train, X_test, y_train, y_test = train_test_split(X, y, test_size=0.2, shuffle=False)"
   ]
  },
  {
   "cell_type": "code",
   "execution_count": null,
   "id": "e64c5e22f2933a5b",
   "metadata": {
    "collapsed": false
   },
   "outputs": [],
   "source": [
    "model = LinearRegression()\n",
    "model.fit(X_train, y_train)\n",
    "y_pred = model.predict(X_test)"
   ]
  },
  {
   "cell_type": "markdown",
   "id": "6d8c289596ad115d",
   "metadata": {
    "collapsed": false
   },
   "source": [
    "## Validation"
   ]
  },
  {
   "cell_type": "code",
   "execution_count": null,
   "id": "490c2e821f39ea0e",
   "metadata": {
    "collapsed": false
   },
   "outputs": [],
   "source": [
    "start_time = time.time()\n",
    "y_pred = model.predict(X_test)\n",
    "end_time = time.time()\n",
    "inference_time = end_time - start_time\n",
    "\n",
    "rmse = np.sqrt(mean_squared_error(y_test, y_pred))\n",
    "\n",
    "mda = np.mean(np.sign(np.diff(y_test)) == np.sign(np.diff(y_pred)))\n",
    "\n",
    "y_test_buckets = pd.qcut(y_test, 4, labels=False) \n",
    "y_pred_buckets = pd.qcut(y_pred, 4, labels=False)\n",
    "\n",
    "f1 = f1_score(y_test_buckets, y_pred_buckets, average='weighted')\n",
    "\n",
    "print(f'Root Mean Squared Error: {rmse}')\n",
    "print(f'Mean Directional Accuracy: {mda}')\n",
    "print(f'Bucketized F1 Score: {f1}')\n",
    "print(f'Inference Time (seconds): {inference_time}')\n"
   ]
  },
  {
   "cell_type": "markdown",
   "id": "527decad24ec0806",
   "metadata": {
    "collapsed": false
   },
   "source": [
    "## Visualize the results"
   ]
  },
  {
   "cell_type": "code",
   "execution_count": null,
   "id": "88143881d6c6b6f3",
   "metadata": {
    "collapsed": false
   },
   "outputs": [],
   "source": [
    "plt.figure(figsize=(10, 6))\n",
    "plt.plot(features_df.index, y, label='Actual Target Variable', color='blue')\n",
    "plt.plot(X_test.index, y_pred, label='Predicted Target Variable', color='red')\n",
    "plt.title('Linear Regression Model')\n",
    "plt.xlabel('Date')\n",
    "plt.ylabel('Target Variable')\n",
    "plt.legend()\n",
    "plt.show()"
   ]
  },
  {
   "cell_type": "markdown",
   "id": "775680d53105d0c6",
   "metadata": {
    "collapsed": false
   },
   "source": [
    "# Saving Model"
   ]
  },
  {
   "cell_type": "code",
   "execution_count": null,
   "id": "d4dbc467c370bef5",
   "metadata": {
    "collapsed": false
   },
   "outputs": [],
   "source": [
    "with open('../Pickles/linear_regression_model.pkl', 'wb') as file:\n",
    "    pickle.dump(model, file)"
   ]
  },
  {
   "cell_type": "markdown",
   "id": "616d0c4d0678e4fc",
   "metadata": {
    "collapsed": false
   },
   "source": [
    "# Loading Model"
   ]
  },
  {
   "cell_type": "code",
   "execution_count": null,
   "id": "90d1d8505c2e41c",
   "metadata": {
    "collapsed": false
   },
   "outputs": [],
   "source": [
    "with open('../Pickles/linear_regression_model.pkl', 'rb') as file:\n",
    "    loaded_model = pickle.load(file)\n",
    "\n",
    "y_pred = loaded_model.predict(X_test)\n",
    "output_df = pd.DataFrame({\n",
    "    'date': X_test.index,\n",
    "    'prediction': y_pred.flatten()\n",
    "})\n",
    "output_df"
   ]
  }
 ],
 "metadata": {
  "kernelspec": {
   "display_name": "base",
   "language": "python",
   "name": "python3"
  },
  "language_info": {
   "codemirror_mode": {
    "name": "ipython",
    "version": 3
   },
   "file_extension": ".py",
   "mimetype": "text/x-python",
   "name": "python",
   "nbconvert_exporter": "python",
   "pygments_lexer": "ipython3",
   "version": "3.9.13"
  }
 },
 "nbformat": 4,
 "nbformat_minor": 5
}
