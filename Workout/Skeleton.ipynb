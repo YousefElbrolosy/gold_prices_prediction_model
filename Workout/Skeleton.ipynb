{
 "cells": [
  {
   "cell_type": "markdown",
   "source": [
    "# Importing Libraries"
   ],
   "metadata": {
    "collapsed": false
   },
   "id": "cb7de77a0ba0aeb8"
  },
  {
   "cell_type": "code",
   "execution_count": null,
   "id": "initial_id",
   "metadata": {
    "collapsed": true
   },
   "outputs": [],
   "source": [
    "import warnings\n",
    "import numpy as np\n",
    "import pandas as pd\n",
    "import plotly.express as px\n",
    "from sklearn.model_selection import train_test_split\n",
    "from sklearn.linear_model import LinearRegression\n",
    "import matplotlib.pyplot as plt\n",
    "from sklearn.metrics import mean_squared_error, f1_score\n",
    "import time\n",
    "import pickle \n",
    "\n",
    "warnings.simplefilter(action='ignore', category=FutureWarning)\n",
    "\n",
    "%load_ext autoreload\n",
    "%autoreload 2"
   ]
  },
  {
   "cell_type": "markdown",
   "source": [
    "# Reading Files"
   ],
   "metadata": {
    "collapsed": false
   },
   "id": "170f3a3b6310c8e8"
  },
  {
   "cell_type": "code",
   "outputs": [],
   "source": [
    "crude_oil_prices = pd.read_csv('../InputData/crude_oil_prices.csv')\n",
    "federal_rates = pd.read_csv('../InputData/effective_federal_funds_rate.csv')\n",
    "corridor_rates = pd.read_csv('../InputData/egyptian_corridor_interest_rates.csv')\n",
    "housing_index = pd.read_csv('../InputData/housing_index.csv')\n",
    "inflation_mom = pd.read_csv('../InputData/inflation_month_on_month.csv')\n",
    "inflation_yoy = pd.read_csv('../InputData/inflation_year_on_year.csv')\n",
    "news_data = pd.read_csv('../InputData/news.csv')\n",
    "stock_prices = pd.read_csv('../InputData/stocks_prices_and_volumes.csv')\n",
    "vix_indices = pd.read_csv('../InputData/vix_index.csv')\n",
    "vixeem_indices = pd.read_csv('../InputData/vxeem_index.csv')\n",
    "gold_prices = pd.read_csv('../InputData/intraday_gold.csv')\n",
    "gold_prices_target = pd.read_csv('../InputData/target_gold.csv')"
   ],
   "metadata": {
    "collapsed": false
   },
   "id": "c2cf553fe3751e19",
   "execution_count": null
  },
  {
   "cell_type": "code",
   "outputs": [],
   "source": [
    "gold_prices_target.head()"
   ],
   "metadata": {
    "collapsed": false
   },
   "id": "7987b73ff1c68863",
   "execution_count": null
  },
  {
   "cell_type": "code",
   "outputs": [],
   "source": [
    "gold_prices_target['Date'] = pd.to_datetime(gold_prices_target['date'])\n",
    "gold_prices_target['Date'] = gold_prices_target['Date'].dt.date\n",
    "gold_prices_target.drop(columns=['date'], inplace=True)\n",
    "gold_prices_target.set_index('Date' , inplace=True)"
   ],
   "metadata": {
    "collapsed": false
   },
   "id": "c379f0c9e510b1f7",
   "execution_count": null
  },
  {
   "cell_type": "code",
   "outputs": [],
   "source": [
    "crude_oil_prices.head()"
   ],
   "metadata": {
    "collapsed": false
   },
   "id": "66153e2d38dae9aa",
   "execution_count": null
  },
  {
   "cell_type": "code",
   "outputs": [],
   "source": [
    "crude_oil_prices['Date'] = pd.to_datetime(crude_oil_prices['Date'])\n",
    "crude_oil_prices['Date'] = crude_oil_prices['Date'].dt.date\n",
    "crude_oil_prices.set_index('Date' , inplace=True)"
   ],
   "metadata": {
    "collapsed": false
   },
   "id": "c9c1b8daf43a6dc5",
   "execution_count": null
  },
  {
   "cell_type": "code",
   "outputs": [],
   "source": [
    "features_df = pd.DataFrame(crude_oil_prices['Europe Brent Crude Oil (Dollars per Barrel)'].pct_change() * 100).shift(-1)\n",
    "X = features_df[['Europe Brent Crude Oil (Dollars per Barrel)']]\n",
    "X"
   ],
   "metadata": {
    "collapsed": false
   },
   "id": "3a239ce1bdffaecc",
   "execution_count": null
  },
  {
   "cell_type": "markdown",
   "source": [
    "# EDA"
   ],
   "metadata": {
    "collapsed": false
   },
   "id": "a7765e001292ed33"
  },
  {
   "cell_type": "code",
   "outputs": [],
   "source": [
    "gold_prices_target.describe()"
   ],
   "metadata": {
    "collapsed": false
   },
   "id": "a06492297c4759b4",
   "execution_count": null
  },
  {
   "cell_type": "code",
   "outputs": [],
   "source": [
    "px.line(gold_prices_target)"
   ],
   "metadata": {
    "collapsed": false
   },
   "id": "61cdd03f9b9da29b",
   "execution_count": null
  },
  {
   "cell_type": "code",
   "outputs": [],
   "source": [
    "crude_oil_prices.describe()"
   ],
   "metadata": {
    "collapsed": false
   },
   "id": "fb56196d21d0a408",
   "execution_count": null
  },
  {
   "cell_type": "code",
   "outputs": [],
   "source": [
    "px.line(crude_oil_prices)"
   ],
   "metadata": {
    "collapsed": false
   },
   "id": "1069781cff4bf00c",
   "execution_count": null
  },
  {
   "cell_type": "markdown",
   "source": [
    "# Feature Selection"
   ],
   "metadata": {
    "collapsed": false
   },
   "id": "8c00974429646b4d"
  },
  {
   "cell_type": "code",
   "outputs": [],
   "source": [
    "features_df = pd.merge(gold_prices_target, (crude_oil_prices['Europe Brent Crude Oil (Dollars per Barrel)'].pct_change() * 100).shift(-1), on='Date', how='left')\n",
    "features_df.fillna(0, inplace=True)\n",
    "features_df"
   ],
   "metadata": {
    "collapsed": false
   },
   "id": "e067780f2c60840a",
   "execution_count": null
  },
  {
   "cell_type": "code",
   "outputs": [],
   "source": [
    "px.line(features_df)"
   ],
   "metadata": {
    "collapsed": false
   },
   "id": "c53db922be8c0fe0",
   "execution_count": null
  },
  {
   "cell_type": "markdown",
   "source": [
    "# Modelling"
   ],
   "metadata": {
    "collapsed": false
   },
   "id": "ae1cb73f9848c767"
  },
  {
   "cell_type": "code",
   "outputs": [],
   "source": [
    "X = features_df[['Europe Brent Crude Oil (Dollars per Barrel)']]  \n",
    "y = features_df['pct_change']\n",
    "X_train, X_test, y_train, y_test = train_test_split(X, y, test_size=0.2, shuffle=False)"
   ],
   "metadata": {
    "collapsed": false
   },
   "id": "ca9bc8da074fdd2",
   "execution_count": null
  },
  {
   "cell_type": "code",
   "outputs": [],
   "source": [
    "model = LinearRegression()\n",
    "model.fit(X_train, y_train)\n",
    "y_pred = model.predict(X_test)"
   ],
   "metadata": {
    "collapsed": false
   },
   "id": "e64c5e22f2933a5b",
   "execution_count": null
  },
  {
   "cell_type": "markdown",
   "source": [
    "## Validation"
   ],
   "metadata": {
    "collapsed": false
   },
   "id": "6d8c289596ad115d"
  },
  {
   "cell_type": "code",
   "outputs": [],
   "source": [
    "start_time = time.time()\n",
    "y_pred = model.predict(X_test)\n",
    "end_time = time.time()\n",
    "inference_time = end_time - start_time\n",
    "\n",
    "rmse = np.sqrt(mean_squared_error(y_test, y_pred))\n",
    "\n",
    "mda = np.mean(np.sign(np.diff(y_test)) == np.sign(np.diff(y_pred)))\n",
    "\n",
    "y_test_buckets = pd.qcut(y_test, 4, labels=False) \n",
    "y_pred_buckets = pd.qcut(y_pred, 4, labels=False)\n",
    "\n",
    "f1 = f1_score(y_test_buckets, y_pred_buckets, average='weighted')\n",
    "\n",
    "print(f'Root Mean Squared Error: {rmse}')\n",
    "print(f'Mean Directional Accuracy: {mda}')\n",
    "print(f'Bucketized F1 Score: {f1}')\n",
    "print(f'Inference Time (seconds): {inference_time}')\n"
   ],
   "metadata": {
    "collapsed": false
   },
   "id": "490c2e821f39ea0e",
   "execution_count": null
  },
  {
   "cell_type": "markdown",
   "source": [
    "## Visualize the results"
   ],
   "metadata": {
    "collapsed": false
   },
   "id": "527decad24ec0806"
  },
  {
   "cell_type": "code",
   "outputs": [],
   "source": [
    "plt.figure(figsize=(10, 6))\n",
    "plt.plot(features_df.index, y, label='Actual Target Variable', color='blue')\n",
    "plt.plot(X_test.index, y_pred, label='Predicted Target Variable', color='red')\n",
    "plt.title('Linear Regression Model')\n",
    "plt.xlabel('Date')\n",
    "plt.ylabel('Target Variable')\n",
    "plt.legend()\n",
    "plt.show()"
   ],
   "metadata": {
    "collapsed": false
   },
   "id": "88143881d6c6b6f3",
   "execution_count": null
  },
  {
   "cell_type": "markdown",
   "source": [
    "# Saving Model"
   ],
   "metadata": {
    "collapsed": false
   },
   "id": "775680d53105d0c6"
  },
  {
   "cell_type": "code",
   "outputs": [],
   "source": [
    "with open('../Pickles/linear_regression_model.pkl', 'wb') as file:\n",
    "    pickle.dump(model, file)"
   ],
   "metadata": {
    "collapsed": false
   },
   "id": "d4dbc467c370bef5",
   "execution_count": null
  },
  {
   "cell_type": "markdown",
   "source": [
    "# Loading Model"
   ],
   "metadata": {
    "collapsed": false
   },
   "id": "616d0c4d0678e4fc"
  },
  {
   "cell_type": "code",
   "outputs": [],
   "source": [
    "with open('../Pickles/linear_regression_model.pkl', 'rb') as file:\n",
    "    loaded_model = pickle.load(file)\n",
    "\n",
    "y_pred = loaded_model.predict(X_test)\n",
    "output_df = pd.DataFrame({\n",
    "    'date': X_test.index,\n",
    "    'prediction': y_pred.flatten()\n",
    "})\n",
    "output_df"
   ],
   "metadata": {
    "collapsed": false
   },
   "id": "90d1d8505c2e41c",
   "execution_count": null
  }
 ],
 "metadata": {
  "kernelspec": {
   "display_name": "Python 3",
   "language": "python",
   "name": "python3"
  },
  "language_info": {
   "codemirror_mode": {
    "name": "ipython",
    "version": 2
   },
   "file_extension": ".py",
   "mimetype": "text/x-python",
   "name": "python",
   "nbconvert_exporter": "python",
   "pygments_lexer": "ipython2",
   "version": "2.7.6"
  }
 },
 "nbformat": 4,
 "nbformat_minor": 5
}
